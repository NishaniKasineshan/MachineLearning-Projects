{
  "nbformat": 4,
  "nbformat_minor": 0,
  "metadata": {
    "colab": {
      "provenance": [],
      "authorship_tag": "ABX9TyP4VTcqG+IKNIa6JLyy+vOn"
    },
    "kernelspec": {
      "name": "python3",
      "display_name": "Python 3"
    },
    "language_info": {
      "name": "python"
    }
  },
  "cells": [
    {
      "cell_type": "code",
      "execution_count": 1,
      "metadata": {
        "colab": {
          "base_uri": "https://localhost:8080/"
        },
        "id": "iLwmurqp9Pk6",
        "outputId": "c05911df-7a5f-4790-f3d8-d856cac1da16"
      },
      "outputs": [
        {
          "output_type": "stream",
          "name": "stderr",
          "text": [
            "/usr/local/lib/python3.9/dist-packages/torch/cuda/__init__.py:546: UserWarning: Can't initialize NVML\n",
            "  warnings.warn(\"Can't initialize NVML\")\n"
          ]
        },
        {
          "output_type": "stream",
          "name": "stdout",
          "text": [
            "\u001b[38;5;2m✔ Download and installation successful\u001b[0m\n",
            "You can now load the package via spacy.load('en_core_web_lg')\n"
          ]
        }
      ],
      "source": [
        "import spacy.cli\n",
        "\n",
        "spacy_download=spacy.cli.download('en_core_web_lg')"
      ]
    },
    {
      "cell_type": "code",
      "source": [
        "nlp=spacy.load('en_core_web_lg')"
      ],
      "metadata": {
        "id": "mZUInmmj-Mc0"
      },
      "execution_count": 2,
      "outputs": []
    },
    {
      "cell_type": "code",
      "source": [
        "import pandas as pd\n",
        "\n",
        "#load dataset to dataframe\n",
        "df=pd.read_json('https://raw.githubusercontent.com/codebasics/nlp-tutorials/main/14_word_vectors_spacy_text_classification/news_dataset.json')\n",
        "df.head()"
      ],
      "metadata": {
        "colab": {
          "base_uri": "https://localhost:8080/",
          "height": 206
        },
        "id": "zC7uQ1ka-hdi",
        "outputId": "5bda74e9-ed7d-47a2-ba17-d269c09491f2"
      },
      "execution_count": 3,
      "outputs": [
        {
          "output_type": "execute_result",
          "data": {
            "text/plain": [
              "                                                text  category\n",
              "0  Larry Nassar Blames His Victims, Says He 'Was ...     CRIME\n",
              "1       Woman Beats Cancer, Dies Falling From Horse      CRIME\n",
              "2  Vegas Taxpayers Could Spend A Record $750 Mill...    SPORTS\n",
              "3  This Richard Sherman Interception Literally Sh...    SPORTS\n",
              "4  7 Things That Could Totally Kill Weed Legaliza...  BUSINESS"
            ],
            "text/html": [
              "\n",
              "  <div id=\"df-a045bcbe-6826-4108-89af-db5f17e198d0\">\n",
              "    <div class=\"colab-df-container\">\n",
              "      <div>\n",
              "<style scoped>\n",
              "    .dataframe tbody tr th:only-of-type {\n",
              "        vertical-align: middle;\n",
              "    }\n",
              "\n",
              "    .dataframe tbody tr th {\n",
              "        vertical-align: top;\n",
              "    }\n",
              "\n",
              "    .dataframe thead th {\n",
              "        text-align: right;\n",
              "    }\n",
              "</style>\n",
              "<table border=\"1\" class=\"dataframe\">\n",
              "  <thead>\n",
              "    <tr style=\"text-align: right;\">\n",
              "      <th></th>\n",
              "      <th>text</th>\n",
              "      <th>category</th>\n",
              "    </tr>\n",
              "  </thead>\n",
              "  <tbody>\n",
              "    <tr>\n",
              "      <th>0</th>\n",
              "      <td>Larry Nassar Blames His Victims, Says He 'Was ...</td>\n",
              "      <td>CRIME</td>\n",
              "    </tr>\n",
              "    <tr>\n",
              "      <th>1</th>\n",
              "      <td>Woman Beats Cancer, Dies Falling From Horse</td>\n",
              "      <td>CRIME</td>\n",
              "    </tr>\n",
              "    <tr>\n",
              "      <th>2</th>\n",
              "      <td>Vegas Taxpayers Could Spend A Record $750 Mill...</td>\n",
              "      <td>SPORTS</td>\n",
              "    </tr>\n",
              "    <tr>\n",
              "      <th>3</th>\n",
              "      <td>This Richard Sherman Interception Literally Sh...</td>\n",
              "      <td>SPORTS</td>\n",
              "    </tr>\n",
              "    <tr>\n",
              "      <th>4</th>\n",
              "      <td>7 Things That Could Totally Kill Weed Legaliza...</td>\n",
              "      <td>BUSINESS</td>\n",
              "    </tr>\n",
              "  </tbody>\n",
              "</table>\n",
              "</div>\n",
              "      <button class=\"colab-df-convert\" onclick=\"convertToInteractive('df-a045bcbe-6826-4108-89af-db5f17e198d0')\"\n",
              "              title=\"Convert this dataframe to an interactive table.\"\n",
              "              style=\"display:none;\">\n",
              "        \n",
              "  <svg xmlns=\"http://www.w3.org/2000/svg\" height=\"24px\"viewBox=\"0 0 24 24\"\n",
              "       width=\"24px\">\n",
              "    <path d=\"M0 0h24v24H0V0z\" fill=\"none\"/>\n",
              "    <path d=\"M18.56 5.44l.94 2.06.94-2.06 2.06-.94-2.06-.94-.94-2.06-.94 2.06-2.06.94zm-11 1L8.5 8.5l.94-2.06 2.06-.94-2.06-.94L8.5 2.5l-.94 2.06-2.06.94zm10 10l.94 2.06.94-2.06 2.06-.94-2.06-.94-.94-2.06-.94 2.06-2.06.94z\"/><path d=\"M17.41 7.96l-1.37-1.37c-.4-.4-.92-.59-1.43-.59-.52 0-1.04.2-1.43.59L10.3 9.45l-7.72 7.72c-.78.78-.78 2.05 0 2.83L4 21.41c.39.39.9.59 1.41.59.51 0 1.02-.2 1.41-.59l7.78-7.78 2.81-2.81c.8-.78.8-2.07 0-2.86zM5.41 20L4 18.59l7.72-7.72 1.47 1.35L5.41 20z\"/>\n",
              "  </svg>\n",
              "      </button>\n",
              "      \n",
              "  <style>\n",
              "    .colab-df-container {\n",
              "      display:flex;\n",
              "      flex-wrap:wrap;\n",
              "      gap: 12px;\n",
              "    }\n",
              "\n",
              "    .colab-df-convert {\n",
              "      background-color: #E8F0FE;\n",
              "      border: none;\n",
              "      border-radius: 50%;\n",
              "      cursor: pointer;\n",
              "      display: none;\n",
              "      fill: #1967D2;\n",
              "      height: 32px;\n",
              "      padding: 0 0 0 0;\n",
              "      width: 32px;\n",
              "    }\n",
              "\n",
              "    .colab-df-convert:hover {\n",
              "      background-color: #E2EBFA;\n",
              "      box-shadow: 0px 1px 2px rgba(60, 64, 67, 0.3), 0px 1px 3px 1px rgba(60, 64, 67, 0.15);\n",
              "      fill: #174EA6;\n",
              "    }\n",
              "\n",
              "    [theme=dark] .colab-df-convert {\n",
              "      background-color: #3B4455;\n",
              "      fill: #D2E3FC;\n",
              "    }\n",
              "\n",
              "    [theme=dark] .colab-df-convert:hover {\n",
              "      background-color: #434B5C;\n",
              "      box-shadow: 0px 1px 3px 1px rgba(0, 0, 0, 0.15);\n",
              "      filter: drop-shadow(0px 1px 2px rgba(0, 0, 0, 0.3));\n",
              "      fill: #FFFFFF;\n",
              "    }\n",
              "  </style>\n",
              "\n",
              "      <script>\n",
              "        const buttonEl =\n",
              "          document.querySelector('#df-a045bcbe-6826-4108-89af-db5f17e198d0 button.colab-df-convert');\n",
              "        buttonEl.style.display =\n",
              "          google.colab.kernel.accessAllowed ? 'block' : 'none';\n",
              "\n",
              "        async function convertToInteractive(key) {\n",
              "          const element = document.querySelector('#df-a045bcbe-6826-4108-89af-db5f17e198d0');\n",
              "          const dataTable =\n",
              "            await google.colab.kernel.invokeFunction('convertToInteractive',\n",
              "                                                     [key], {});\n",
              "          if (!dataTable) return;\n",
              "\n",
              "          const docLinkHtml = 'Like what you see? Visit the ' +\n",
              "            '<a target=\"_blank\" href=https://colab.research.google.com/notebooks/data_table.ipynb>data table notebook</a>'\n",
              "            + ' to learn more about interactive tables.';\n",
              "          element.innerHTML = '';\n",
              "          dataTable['output_type'] = 'display_data';\n",
              "          await google.colab.output.renderOutput(dataTable, element);\n",
              "          const docLink = document.createElement('div');\n",
              "          docLink.innerHTML = docLinkHtml;\n",
              "          element.appendChild(docLink);\n",
              "        }\n",
              "      </script>\n",
              "    </div>\n",
              "  </div>\n",
              "  "
            ]
          },
          "metadata": {},
          "execution_count": 3
        }
      ]
    },
    {
      "cell_type": "code",
      "source": [
        "#shape of the dataset\n",
        "df.shape"
      ],
      "metadata": {
        "colab": {
          "base_uri": "https://localhost:8080/"
        },
        "id": "miUin34G_Oyr",
        "outputId": "ca7151fb-208e-4457-ae1a-a661547630fc"
      },
      "execution_count": 4,
      "outputs": [
        {
          "output_type": "execute_result",
          "data": {
            "text/plain": [
              "(7500, 2)"
            ]
          },
          "metadata": {},
          "execution_count": 4
        }
      ]
    },
    {
      "cell_type": "code",
      "source": [
        "df['category'].value_counts()"
      ],
      "metadata": {
        "colab": {
          "base_uri": "https://localhost:8080/"
        },
        "id": "LXsyFUd5_R3q",
        "outputId": "28cf3f0b-1e03-4a6b-be31-c76c736f1bf9"
      },
      "execution_count": 5,
      "outputs": [
        {
          "output_type": "execute_result",
          "data": {
            "text/plain": [
              "CRIME       2500\n",
              "SPORTS      2500\n",
              "BUSINESS    2500\n",
              "Name: category, dtype: int64"
            ]
          },
          "metadata": {},
          "execution_count": 5
        }
      ]
    },
    {
      "cell_type": "markdown",
      "source": [
        "It can be seen that the dataset is balanced among the categories."
      ],
      "metadata": {
        "id": "JiVhwcdH_aSz"
      }
    },
    {
      "cell_type": "code",
      "source": [
        "df['category_num']=df['category'].map({'BUSINESS':0,'SPORTS':1,'CRIME':2})\n",
        "\n",
        "df.head()"
      ],
      "metadata": {
        "colab": {
          "base_uri": "https://localhost:8080/",
          "height": 206
        },
        "id": "2iiLauUj_e23",
        "outputId": "78c20947-6dfd-460f-b621-c08f4ae98a85"
      },
      "execution_count": 6,
      "outputs": [
        {
          "output_type": "execute_result",
          "data": {
            "text/plain": [
              "                                                text  category  category_num\n",
              "0  Larry Nassar Blames His Victims, Says He 'Was ...     CRIME             2\n",
              "1       Woman Beats Cancer, Dies Falling From Horse      CRIME             2\n",
              "2  Vegas Taxpayers Could Spend A Record $750 Mill...    SPORTS             1\n",
              "3  This Richard Sherman Interception Literally Sh...    SPORTS             1\n",
              "4  7 Things That Could Totally Kill Weed Legaliza...  BUSINESS             0"
            ],
            "text/html": [
              "\n",
              "  <div id=\"df-746a87d1-20bc-4e42-8634-0051fe0d68ab\">\n",
              "    <div class=\"colab-df-container\">\n",
              "      <div>\n",
              "<style scoped>\n",
              "    .dataframe tbody tr th:only-of-type {\n",
              "        vertical-align: middle;\n",
              "    }\n",
              "\n",
              "    .dataframe tbody tr th {\n",
              "        vertical-align: top;\n",
              "    }\n",
              "\n",
              "    .dataframe thead th {\n",
              "        text-align: right;\n",
              "    }\n",
              "</style>\n",
              "<table border=\"1\" class=\"dataframe\">\n",
              "  <thead>\n",
              "    <tr style=\"text-align: right;\">\n",
              "      <th></th>\n",
              "      <th>text</th>\n",
              "      <th>category</th>\n",
              "      <th>category_num</th>\n",
              "    </tr>\n",
              "  </thead>\n",
              "  <tbody>\n",
              "    <tr>\n",
              "      <th>0</th>\n",
              "      <td>Larry Nassar Blames His Victims, Says He 'Was ...</td>\n",
              "      <td>CRIME</td>\n",
              "      <td>2</td>\n",
              "    </tr>\n",
              "    <tr>\n",
              "      <th>1</th>\n",
              "      <td>Woman Beats Cancer, Dies Falling From Horse</td>\n",
              "      <td>CRIME</td>\n",
              "      <td>2</td>\n",
              "    </tr>\n",
              "    <tr>\n",
              "      <th>2</th>\n",
              "      <td>Vegas Taxpayers Could Spend A Record $750 Mill...</td>\n",
              "      <td>SPORTS</td>\n",
              "      <td>1</td>\n",
              "    </tr>\n",
              "    <tr>\n",
              "      <th>3</th>\n",
              "      <td>This Richard Sherman Interception Literally Sh...</td>\n",
              "      <td>SPORTS</td>\n",
              "      <td>1</td>\n",
              "    </tr>\n",
              "    <tr>\n",
              "      <th>4</th>\n",
              "      <td>7 Things That Could Totally Kill Weed Legaliza...</td>\n",
              "      <td>BUSINESS</td>\n",
              "      <td>0</td>\n",
              "    </tr>\n",
              "  </tbody>\n",
              "</table>\n",
              "</div>\n",
              "      <button class=\"colab-df-convert\" onclick=\"convertToInteractive('df-746a87d1-20bc-4e42-8634-0051fe0d68ab')\"\n",
              "              title=\"Convert this dataframe to an interactive table.\"\n",
              "              style=\"display:none;\">\n",
              "        \n",
              "  <svg xmlns=\"http://www.w3.org/2000/svg\" height=\"24px\"viewBox=\"0 0 24 24\"\n",
              "       width=\"24px\">\n",
              "    <path d=\"M0 0h24v24H0V0z\" fill=\"none\"/>\n",
              "    <path d=\"M18.56 5.44l.94 2.06.94-2.06 2.06-.94-2.06-.94-.94-2.06-.94 2.06-2.06.94zm-11 1L8.5 8.5l.94-2.06 2.06-.94-2.06-.94L8.5 2.5l-.94 2.06-2.06.94zm10 10l.94 2.06.94-2.06 2.06-.94-2.06-.94-.94-2.06-.94 2.06-2.06.94z\"/><path d=\"M17.41 7.96l-1.37-1.37c-.4-.4-.92-.59-1.43-.59-.52 0-1.04.2-1.43.59L10.3 9.45l-7.72 7.72c-.78.78-.78 2.05 0 2.83L4 21.41c.39.39.9.59 1.41.59.51 0 1.02-.2 1.41-.59l7.78-7.78 2.81-2.81c.8-.78.8-2.07 0-2.86zM5.41 20L4 18.59l7.72-7.72 1.47 1.35L5.41 20z\"/>\n",
              "  </svg>\n",
              "      </button>\n",
              "      \n",
              "  <style>\n",
              "    .colab-df-container {\n",
              "      display:flex;\n",
              "      flex-wrap:wrap;\n",
              "      gap: 12px;\n",
              "    }\n",
              "\n",
              "    .colab-df-convert {\n",
              "      background-color: #E8F0FE;\n",
              "      border: none;\n",
              "      border-radius: 50%;\n",
              "      cursor: pointer;\n",
              "      display: none;\n",
              "      fill: #1967D2;\n",
              "      height: 32px;\n",
              "      padding: 0 0 0 0;\n",
              "      width: 32px;\n",
              "    }\n",
              "\n",
              "    .colab-df-convert:hover {\n",
              "      background-color: #E2EBFA;\n",
              "      box-shadow: 0px 1px 2px rgba(60, 64, 67, 0.3), 0px 1px 3px 1px rgba(60, 64, 67, 0.15);\n",
              "      fill: #174EA6;\n",
              "    }\n",
              "\n",
              "    [theme=dark] .colab-df-convert {\n",
              "      background-color: #3B4455;\n",
              "      fill: #D2E3FC;\n",
              "    }\n",
              "\n",
              "    [theme=dark] .colab-df-convert:hover {\n",
              "      background-color: #434B5C;\n",
              "      box-shadow: 0px 1px 3px 1px rgba(0, 0, 0, 0.15);\n",
              "      filter: drop-shadow(0px 1px 2px rgba(0, 0, 0, 0.3));\n",
              "      fill: #FFFFFF;\n",
              "    }\n",
              "  </style>\n",
              "\n",
              "      <script>\n",
              "        const buttonEl =\n",
              "          document.querySelector('#df-746a87d1-20bc-4e42-8634-0051fe0d68ab button.colab-df-convert');\n",
              "        buttonEl.style.display =\n",
              "          google.colab.kernel.accessAllowed ? 'block' : 'none';\n",
              "\n",
              "        async function convertToInteractive(key) {\n",
              "          const element = document.querySelector('#df-746a87d1-20bc-4e42-8634-0051fe0d68ab');\n",
              "          const dataTable =\n",
              "            await google.colab.kernel.invokeFunction('convertToInteractive',\n",
              "                                                     [key], {});\n",
              "          if (!dataTable) return;\n",
              "\n",
              "          const docLinkHtml = 'Like what you see? Visit the ' +\n",
              "            '<a target=\"_blank\" href=https://colab.research.google.com/notebooks/data_table.ipynb>data table notebook</a>'\n",
              "            + ' to learn more about interactive tables.';\n",
              "          element.innerHTML = '';\n",
              "          dataTable['output_type'] = 'display_data';\n",
              "          await google.colab.output.renderOutput(dataTable, element);\n",
              "          const docLink = document.createElement('div');\n",
              "          docLink.innerHTML = docLinkHtml;\n",
              "          element.appendChild(docLink);\n",
              "        }\n",
              "      </script>\n",
              "    </div>\n",
              "  </div>\n",
              "  "
            ]
          },
          "metadata": {},
          "execution_count": 6
        }
      ]
    },
    {
      "cell_type": "markdown",
      "source": [
        "**Preprocess the text**"
      ],
      "metadata": {
        "id": "NGQc20c7_3S5"
      }
    },
    {
      "cell_type": "code",
      "source": [
        "#remove stop words\n",
        "#convert words to base form using lemmatization\n",
        "\n",
        "#A function defined to preprocess the text\n",
        "def preprocess(text):\n",
        "  doc=nlp(text)\n",
        "  filtered_tokens=[]\n",
        "  for token in doc:\n",
        "    if token.is_stop or token.is_punct:\n",
        "      continue\n",
        "    filtered_tokens.append(token.lemma_)\n",
        "  return ' '.join(filtered_tokens)"
      ],
      "metadata": {
        "id": "M6j6PmRR_6Em"
      },
      "execution_count": 7,
      "outputs": []
    },
    {
      "cell_type": "code",
      "source": [
        "df['preprocessed_text']=df['text'].apply(lambda text:preprocess(text))\n",
        "df.head()"
      ],
      "metadata": {
        "colab": {
          "base_uri": "https://localhost:8080/",
          "height": 337
        },
        "id": "nu1Fqdi7Abdi",
        "outputId": "851761d2-271d-4939-d6f1-9fd709aa10e2"
      },
      "execution_count": 8,
      "outputs": [
        {
          "output_type": "execute_result",
          "data": {
            "text/plain": [
              "                                                text  category  category_num  \\\n",
              "0  Larry Nassar Blames His Victims, Says He 'Was ...     CRIME             2   \n",
              "1       Woman Beats Cancer, Dies Falling From Horse      CRIME             2   \n",
              "2  Vegas Taxpayers Could Spend A Record $750 Mill...    SPORTS             1   \n",
              "3  This Richard Sherman Interception Literally Sh...    SPORTS             1   \n",
              "4  7 Things That Could Totally Kill Weed Legaliza...  BUSINESS             0   \n",
              "\n",
              "                                   preprocessed_text  \n",
              "0  Larry Nassar blame victim say victimize newly ...  \n",
              "1                  woman Beats Cancer die fall horse  \n",
              "2  vegas taxpayer spend Record $ 750 million New ...  \n",
              "3  Richard Sherman Interception literally shake W...  \n",
              "4        7 thing totally kill Weed Legalization Buzz  "
            ],
            "text/html": [
              "\n",
              "  <div id=\"df-c48b5877-a34c-44bc-a738-d332ecf2b5e9\">\n",
              "    <div class=\"colab-df-container\">\n",
              "      <div>\n",
              "<style scoped>\n",
              "    .dataframe tbody tr th:only-of-type {\n",
              "        vertical-align: middle;\n",
              "    }\n",
              "\n",
              "    .dataframe tbody tr th {\n",
              "        vertical-align: top;\n",
              "    }\n",
              "\n",
              "    .dataframe thead th {\n",
              "        text-align: right;\n",
              "    }\n",
              "</style>\n",
              "<table border=\"1\" class=\"dataframe\">\n",
              "  <thead>\n",
              "    <tr style=\"text-align: right;\">\n",
              "      <th></th>\n",
              "      <th>text</th>\n",
              "      <th>category</th>\n",
              "      <th>category_num</th>\n",
              "      <th>preprocessed_text</th>\n",
              "    </tr>\n",
              "  </thead>\n",
              "  <tbody>\n",
              "    <tr>\n",
              "      <th>0</th>\n",
              "      <td>Larry Nassar Blames His Victims, Says He 'Was ...</td>\n",
              "      <td>CRIME</td>\n",
              "      <td>2</td>\n",
              "      <td>Larry Nassar blame victim say victimize newly ...</td>\n",
              "    </tr>\n",
              "    <tr>\n",
              "      <th>1</th>\n",
              "      <td>Woman Beats Cancer, Dies Falling From Horse</td>\n",
              "      <td>CRIME</td>\n",
              "      <td>2</td>\n",
              "      <td>woman Beats Cancer die fall horse</td>\n",
              "    </tr>\n",
              "    <tr>\n",
              "      <th>2</th>\n",
              "      <td>Vegas Taxpayers Could Spend A Record $750 Mill...</td>\n",
              "      <td>SPORTS</td>\n",
              "      <td>1</td>\n",
              "      <td>vegas taxpayer spend Record $ 750 million New ...</td>\n",
              "    </tr>\n",
              "    <tr>\n",
              "      <th>3</th>\n",
              "      <td>This Richard Sherman Interception Literally Sh...</td>\n",
              "      <td>SPORTS</td>\n",
              "      <td>1</td>\n",
              "      <td>Richard Sherman Interception literally shake W...</td>\n",
              "    </tr>\n",
              "    <tr>\n",
              "      <th>4</th>\n",
              "      <td>7 Things That Could Totally Kill Weed Legaliza...</td>\n",
              "      <td>BUSINESS</td>\n",
              "      <td>0</td>\n",
              "      <td>7 thing totally kill Weed Legalization Buzz</td>\n",
              "    </tr>\n",
              "  </tbody>\n",
              "</table>\n",
              "</div>\n",
              "      <button class=\"colab-df-convert\" onclick=\"convertToInteractive('df-c48b5877-a34c-44bc-a738-d332ecf2b5e9')\"\n",
              "              title=\"Convert this dataframe to an interactive table.\"\n",
              "              style=\"display:none;\">\n",
              "        \n",
              "  <svg xmlns=\"http://www.w3.org/2000/svg\" height=\"24px\"viewBox=\"0 0 24 24\"\n",
              "       width=\"24px\">\n",
              "    <path d=\"M0 0h24v24H0V0z\" fill=\"none\"/>\n",
              "    <path d=\"M18.56 5.44l.94 2.06.94-2.06 2.06-.94-2.06-.94-.94-2.06-.94 2.06-2.06.94zm-11 1L8.5 8.5l.94-2.06 2.06-.94-2.06-.94L8.5 2.5l-.94 2.06-2.06.94zm10 10l.94 2.06.94-2.06 2.06-.94-2.06-.94-.94-2.06-.94 2.06-2.06.94z\"/><path d=\"M17.41 7.96l-1.37-1.37c-.4-.4-.92-.59-1.43-.59-.52 0-1.04.2-1.43.59L10.3 9.45l-7.72 7.72c-.78.78-.78 2.05 0 2.83L4 21.41c.39.39.9.59 1.41.59.51 0 1.02-.2 1.41-.59l7.78-7.78 2.81-2.81c.8-.78.8-2.07 0-2.86zM5.41 20L4 18.59l7.72-7.72 1.47 1.35L5.41 20z\"/>\n",
              "  </svg>\n",
              "      </button>\n",
              "      \n",
              "  <style>\n",
              "    .colab-df-container {\n",
              "      display:flex;\n",
              "      flex-wrap:wrap;\n",
              "      gap: 12px;\n",
              "    }\n",
              "\n",
              "    .colab-df-convert {\n",
              "      background-color: #E8F0FE;\n",
              "      border: none;\n",
              "      border-radius: 50%;\n",
              "      cursor: pointer;\n",
              "      display: none;\n",
              "      fill: #1967D2;\n",
              "      height: 32px;\n",
              "      padding: 0 0 0 0;\n",
              "      width: 32px;\n",
              "    }\n",
              "\n",
              "    .colab-df-convert:hover {\n",
              "      background-color: #E2EBFA;\n",
              "      box-shadow: 0px 1px 2px rgba(60, 64, 67, 0.3), 0px 1px 3px 1px rgba(60, 64, 67, 0.15);\n",
              "      fill: #174EA6;\n",
              "    }\n",
              "\n",
              "    [theme=dark] .colab-df-convert {\n",
              "      background-color: #3B4455;\n",
              "      fill: #D2E3FC;\n",
              "    }\n",
              "\n",
              "    [theme=dark] .colab-df-convert:hover {\n",
              "      background-color: #434B5C;\n",
              "      box-shadow: 0px 1px 3px 1px rgba(0, 0, 0, 0.15);\n",
              "      filter: drop-shadow(0px 1px 2px rgba(0, 0, 0, 0.3));\n",
              "      fill: #FFFFFF;\n",
              "    }\n",
              "  </style>\n",
              "\n",
              "      <script>\n",
              "        const buttonEl =\n",
              "          document.querySelector('#df-c48b5877-a34c-44bc-a738-d332ecf2b5e9 button.colab-df-convert');\n",
              "        buttonEl.style.display =\n",
              "          google.colab.kernel.accessAllowed ? 'block' : 'none';\n",
              "\n",
              "        async function convertToInteractive(key) {\n",
              "          const element = document.querySelector('#df-c48b5877-a34c-44bc-a738-d332ecf2b5e9');\n",
              "          const dataTable =\n",
              "            await google.colab.kernel.invokeFunction('convertToInteractive',\n",
              "                                                     [key], {});\n",
              "          if (!dataTable) return;\n",
              "\n",
              "          const docLinkHtml = 'Like what you see? Visit the ' +\n",
              "            '<a target=\"_blank\" href=https://colab.research.google.com/notebooks/data_table.ipynb>data table notebook</a>'\n",
              "            + ' to learn more about interactive tables.';\n",
              "          element.innerHTML = '';\n",
              "          dataTable['output_type'] = 'display_data';\n",
              "          await google.colab.output.renderOutput(dataTable, element);\n",
              "          const docLink = document.createElement('div');\n",
              "          docLink.innerHTML = docLinkHtml;\n",
              "          element.appendChild(docLink);\n",
              "        }\n",
              "      </script>\n",
              "    </div>\n",
              "  </div>\n",
              "  "
            ]
          },
          "metadata": {},
          "execution_count": 8
        }
      ]
    },
    {
      "cell_type": "code",
      "source": [
        "#get the spacy word embeddings for each preprocessed text\n",
        "df['vector']=df['preprocessed_text'].apply(lambda text:nlp(text).vector)\n",
        "df.head()"
      ],
      "metadata": {
        "colab": {
          "base_uri": "https://localhost:8080/",
          "height": 510
        },
        "id": "Aj1dBe3PCvi0",
        "outputId": "19e38697-5a2b-4677-89e7-784d88c10eb1"
      },
      "execution_count": 9,
      "outputs": [
        {
          "output_type": "execute_result",
          "data": {
            "text/plain": [
              "                                                text  category  category_num  \\\n",
              "0  Larry Nassar Blames His Victims, Says He 'Was ...     CRIME             2   \n",
              "1       Woman Beats Cancer, Dies Falling From Horse      CRIME             2   \n",
              "2  Vegas Taxpayers Could Spend A Record $750 Mill...    SPORTS             1   \n",
              "3  This Richard Sherman Interception Literally Sh...    SPORTS             1   \n",
              "4  7 Things That Could Totally Kill Weed Legaliza...  BUSINESS             0   \n",
              "\n",
              "                                   preprocessed_text  \\\n",
              "0  Larry Nassar blame victim say victimize newly ...   \n",
              "1                  woman Beats Cancer die fall horse   \n",
              "2  vegas taxpayer spend Record $ 750 million New ...   \n",
              "3  Richard Sherman Interception literally shake W...   \n",
              "4        7 thing totally kill Weed Legalization Buzz   \n",
              "\n",
              "                                              vector  \n",
              "0  [-0.5585511, -0.29323253, -0.9253956, 0.189389...  \n",
              "1  [-0.73039824, -0.43196002, -1.2930516, -1.0628...  \n",
              "2  [-1.9413117, 0.121578515, -3.2996283, 1.511650...  \n",
              "3  [-1.4702771, -0.685319, 0.57398, -0.31135806, ...  \n",
              "4  [-1.037173, -1.9495698, -1.7179357, 1.2975286,...  "
            ],
            "text/html": [
              "\n",
              "  <div id=\"df-81218e4c-5056-474d-85d0-237aacfc66dd\">\n",
              "    <div class=\"colab-df-container\">\n",
              "      <div>\n",
              "<style scoped>\n",
              "    .dataframe tbody tr th:only-of-type {\n",
              "        vertical-align: middle;\n",
              "    }\n",
              "\n",
              "    .dataframe tbody tr th {\n",
              "        vertical-align: top;\n",
              "    }\n",
              "\n",
              "    .dataframe thead th {\n",
              "        text-align: right;\n",
              "    }\n",
              "</style>\n",
              "<table border=\"1\" class=\"dataframe\">\n",
              "  <thead>\n",
              "    <tr style=\"text-align: right;\">\n",
              "      <th></th>\n",
              "      <th>text</th>\n",
              "      <th>category</th>\n",
              "      <th>category_num</th>\n",
              "      <th>preprocessed_text</th>\n",
              "      <th>vector</th>\n",
              "    </tr>\n",
              "  </thead>\n",
              "  <tbody>\n",
              "    <tr>\n",
              "      <th>0</th>\n",
              "      <td>Larry Nassar Blames His Victims, Says He 'Was ...</td>\n",
              "      <td>CRIME</td>\n",
              "      <td>2</td>\n",
              "      <td>Larry Nassar blame victim say victimize newly ...</td>\n",
              "      <td>[-0.5585511, -0.29323253, -0.9253956, 0.189389...</td>\n",
              "    </tr>\n",
              "    <tr>\n",
              "      <th>1</th>\n",
              "      <td>Woman Beats Cancer, Dies Falling From Horse</td>\n",
              "      <td>CRIME</td>\n",
              "      <td>2</td>\n",
              "      <td>woman Beats Cancer die fall horse</td>\n",
              "      <td>[-0.73039824, -0.43196002, -1.2930516, -1.0628...</td>\n",
              "    </tr>\n",
              "    <tr>\n",
              "      <th>2</th>\n",
              "      <td>Vegas Taxpayers Could Spend A Record $750 Mill...</td>\n",
              "      <td>SPORTS</td>\n",
              "      <td>1</td>\n",
              "      <td>vegas taxpayer spend Record $ 750 million New ...</td>\n",
              "      <td>[-1.9413117, 0.121578515, -3.2996283, 1.511650...</td>\n",
              "    </tr>\n",
              "    <tr>\n",
              "      <th>3</th>\n",
              "      <td>This Richard Sherman Interception Literally Sh...</td>\n",
              "      <td>SPORTS</td>\n",
              "      <td>1</td>\n",
              "      <td>Richard Sherman Interception literally shake W...</td>\n",
              "      <td>[-1.4702771, -0.685319, 0.57398, -0.31135806, ...</td>\n",
              "    </tr>\n",
              "    <tr>\n",
              "      <th>4</th>\n",
              "      <td>7 Things That Could Totally Kill Weed Legaliza...</td>\n",
              "      <td>BUSINESS</td>\n",
              "      <td>0</td>\n",
              "      <td>7 thing totally kill Weed Legalization Buzz</td>\n",
              "      <td>[-1.037173, -1.9495698, -1.7179357, 1.2975286,...</td>\n",
              "    </tr>\n",
              "  </tbody>\n",
              "</table>\n",
              "</div>\n",
              "      <button class=\"colab-df-convert\" onclick=\"convertToInteractive('df-81218e4c-5056-474d-85d0-237aacfc66dd')\"\n",
              "              title=\"Convert this dataframe to an interactive table.\"\n",
              "              style=\"display:none;\">\n",
              "        \n",
              "  <svg xmlns=\"http://www.w3.org/2000/svg\" height=\"24px\"viewBox=\"0 0 24 24\"\n",
              "       width=\"24px\">\n",
              "    <path d=\"M0 0h24v24H0V0z\" fill=\"none\"/>\n",
              "    <path d=\"M18.56 5.44l.94 2.06.94-2.06 2.06-.94-2.06-.94-.94-2.06-.94 2.06-2.06.94zm-11 1L8.5 8.5l.94-2.06 2.06-.94-2.06-.94L8.5 2.5l-.94 2.06-2.06.94zm10 10l.94 2.06.94-2.06 2.06-.94-2.06-.94-.94-2.06-.94 2.06-2.06.94z\"/><path d=\"M17.41 7.96l-1.37-1.37c-.4-.4-.92-.59-1.43-.59-.52 0-1.04.2-1.43.59L10.3 9.45l-7.72 7.72c-.78.78-.78 2.05 0 2.83L4 21.41c.39.39.9.59 1.41.59.51 0 1.02-.2 1.41-.59l7.78-7.78 2.81-2.81c.8-.78.8-2.07 0-2.86zM5.41 20L4 18.59l7.72-7.72 1.47 1.35L5.41 20z\"/>\n",
              "  </svg>\n",
              "      </button>\n",
              "      \n",
              "  <style>\n",
              "    .colab-df-container {\n",
              "      display:flex;\n",
              "      flex-wrap:wrap;\n",
              "      gap: 12px;\n",
              "    }\n",
              "\n",
              "    .colab-df-convert {\n",
              "      background-color: #E8F0FE;\n",
              "      border: none;\n",
              "      border-radius: 50%;\n",
              "      cursor: pointer;\n",
              "      display: none;\n",
              "      fill: #1967D2;\n",
              "      height: 32px;\n",
              "      padding: 0 0 0 0;\n",
              "      width: 32px;\n",
              "    }\n",
              "\n",
              "    .colab-df-convert:hover {\n",
              "      background-color: #E2EBFA;\n",
              "      box-shadow: 0px 1px 2px rgba(60, 64, 67, 0.3), 0px 1px 3px 1px rgba(60, 64, 67, 0.15);\n",
              "      fill: #174EA6;\n",
              "    }\n",
              "\n",
              "    [theme=dark] .colab-df-convert {\n",
              "      background-color: #3B4455;\n",
              "      fill: #D2E3FC;\n",
              "    }\n",
              "\n",
              "    [theme=dark] .colab-df-convert:hover {\n",
              "      background-color: #434B5C;\n",
              "      box-shadow: 0px 1px 3px 1px rgba(0, 0, 0, 0.15);\n",
              "      filter: drop-shadow(0px 1px 2px rgba(0, 0, 0, 0.3));\n",
              "      fill: #FFFFFF;\n",
              "    }\n",
              "  </style>\n",
              "\n",
              "      <script>\n",
              "        const buttonEl =\n",
              "          document.querySelector('#df-81218e4c-5056-474d-85d0-237aacfc66dd button.colab-df-convert');\n",
              "        buttonEl.style.display =\n",
              "          google.colab.kernel.accessAllowed ? 'block' : 'none';\n",
              "\n",
              "        async function convertToInteractive(key) {\n",
              "          const element = document.querySelector('#df-81218e4c-5056-474d-85d0-237aacfc66dd');\n",
              "          const dataTable =\n",
              "            await google.colab.kernel.invokeFunction('convertToInteractive',\n",
              "                                                     [key], {});\n",
              "          if (!dataTable) return;\n",
              "\n",
              "          const docLinkHtml = 'Like what you see? Visit the ' +\n",
              "            '<a target=\"_blank\" href=https://colab.research.google.com/notebooks/data_table.ipynb>data table notebook</a>'\n",
              "            + ' to learn more about interactive tables.';\n",
              "          element.innerHTML = '';\n",
              "          dataTable['output_type'] = 'display_data';\n",
              "          await google.colab.output.renderOutput(dataTable, element);\n",
              "          const docLink = document.createElement('div');\n",
              "          docLink.innerHTML = docLinkHtml;\n",
              "          element.appendChild(docLink);\n",
              "        }\n",
              "      </script>\n",
              "    </div>\n",
              "  </div>\n",
              "  "
            ]
          },
          "metadata": {},
          "execution_count": 9
        }
      ]
    },
    {
      "cell_type": "code",
      "source": [
        "from sklearn.model_selection import train_test_split\n",
        "\n",
        "x_train,x_test,y_train,y_test=train_test_split(df.vector.values,df.category_num,test_size=0.2,random_state=2023)"
      ],
      "metadata": {
        "id": "inrHLxCFDWAf"
      },
      "execution_count": 10,
      "outputs": []
    },
    {
      "cell_type": "code",
      "source": [
        "x_train#it's like an array of array"
      ],
      "metadata": {
        "colab": {
          "base_uri": "https://localhost:8080/"
        },
        "id": "WhekGDt_Dtfw",
        "outputId": "ba713ae2-9560-4bed-c8c9-e8fe8e036248"
      },
      "execution_count": 11,
      "outputs": [
        {
          "output_type": "execute_result",
          "data": {
            "text/plain": [
              "array([array([ 1.07928336e+00,  1.10136330e+00, -1.27692115e+00,  1.15976894e+00,\n",
              "               2.11605453e+00,  1.36624098e+00,  2.29735112e+00,  2.01146007e+00,\n",
              "              -2.71166539e+00, -3.33997726e-01,  1.40830886e+00,  7.99461424e-01,\n",
              "              -1.15553546e+00,  3.21777791e-01,  4.88785535e-01,  7.14997828e-01,\n",
              "               1.46762788e+00, -1.18728447e+00, -7.34977722e-01,  8.90025556e-01,\n",
              "              -7.01639771e-01,  6.32820070e-01, -1.85886681e+00, -1.70476985e+00,\n",
              "               3.48351091e-01,  7.20745504e-01, -1.66872001e+00,  1.31423485e+00,\n",
              "              -9.21822250e-01,  7.44864523e-01,  1.89584684e+00, -2.41922271e-02,\n",
              "              -1.82392180e-01, -7.86460876e-01, -3.85504290e-02, -6.27248883e-01,\n",
              "              -6.66426897e-01, -8.83767724e-01,  1.38866508e+00, -2.76953340e-01,\n",
              "              -3.08575541e-01,  9.12147760e-01, -5.84895551e-01,  1.09117317e+00,\n",
              "              -2.13397622e+00,  6.97453737e-01,  1.05978854e-01, -1.53411782e+00,\n",
              "               4.84746605e-01,  2.50654429e-01, -1.02761436e+00,  1.71071100e+00,\n",
              "               1.59737885e+00, -6.67388320e-01, -7.23496675e-01,  1.94280005e+00,\n",
              "              -6.18626654e-01,  2.21881956e-01,  2.27167892e+00,  2.37735534e+00,\n",
              "               2.31955552e+00,  6.33580029e-01, -1.32751203e+00,  1.65386647e-01,\n",
              "               1.25232100e+00,  6.00233316e-01, -4.53375673e+00, -3.00498915e+00,\n",
              "              -7.02422708e-02,  3.12981129e+00,  1.80038774e+00,  1.00796700e-01,\n",
              "              -1.62800872e+00,  1.65856767e+00,  2.12021992e-02, -2.87631065e-01,\n",
              "              -6.49408460e-01, -9.95488539e-02, -8.51481140e-01,  8.05232227e-01,\n",
              "              -1.40911007e+00, -1.39070344e+00, -4.16992247e-01,  1.10365140e+00,\n",
              "               4.00299758e-01, -1.09682035e+00,  2.10733339e-01, -2.96378875e+00,\n",
              "              -1.11219275e+00,  2.41393352e+00, -8.13492298e-01,  1.70618224e+00,\n",
              "               3.52136672e-01, -1.37725663e+00,  1.64307773e-01, -7.25404441e-01,\n",
              "               1.50639212e+00, -1.47479331e+00,  4.44104433e-01, -8.81298900e-01,\n",
              "               1.45793104e+00,  8.63388896e-01,  1.25746453e+00,  1.59808564e+00,\n",
              "              -1.21331608e+00,  2.91160965e+00, -1.86943567e+00, -1.23300326e+00,\n",
              "              -4.76848871e-01, -2.07597208e+00,  3.41288373e-02, -1.84095240e+00,\n",
              "              -6.86125517e-01, -8.59712183e-01, -4.21411730e-02,  2.12997556e+00,\n",
              "              -3.15042567e+00, -6.00045562e-01, -4.08257782e-01,  1.41303444e+00,\n",
              "              -1.76251662e+00, -3.52711225e+00,  5.26955605e-01, -1.68215990e+00,\n",
              "              -8.09210002e-01,  2.28048906e-01,  2.36118913e+00, -3.14565569e-01,\n",
              "               6.97918892e-01, -1.26480436e+00, -2.89174461e+00,  5.69451094e-01,\n",
              "               1.62561333e+00,  5.60148895e-01,  6.62520051e-01,  1.01626790e+00,\n",
              "              -5.82644403e-01, -7.85377696e-02,  2.09535336e+00,  1.17344726e-02,\n",
              "               1.32131070e-01,  1.71560273e-01,  1.72033453e+00,  2.92830205e+00,\n",
              "              -1.46715212e+00,  1.27777755e-01, -6.83735609e-01, -3.96556646e-01,\n",
              "               5.76716661e-01,  8.23021829e-02, -1.83166005e-02, -7.86319017e-01,\n",
              "               3.23195517e-01,  7.42501080e-01, -4.99135554e-01,  1.58892858e+00,\n",
              "               1.73349118e+00,  1.31244791e+00, -1.87130019e-01, -2.03761768e+00,\n",
              "               4.08193797e-01, -1.29345322e+00, -7.05843329e-01,  3.73911023e-01,\n",
              "              -1.27693331e+00,  2.67056614e-01, -1.65644217e+00, -6.64975524e-01,\n",
              "              -3.54851127e-01,  2.89064776e-02, -1.35011113e+00,  4.69070017e-01,\n",
              "               2.67150015e-01,  8.81943285e-01,  7.30738938e-01,  5.05831063e-01,\n",
              "              -9.81801450e-01,  9.35974836e-01,  1.09447551e+00, -8.19261134e-01,\n",
              "              -7.80284524e-01,  1.55833447e+00,  1.70623672e+00, -5.39459944e-01,\n",
              "              -9.66345549e-01,  1.37859344e+00,  3.38889770e-02, -1.36998796e+00,\n",
              "               6.51924372e-01,  1.44655550e+00, -1.36640215e+00, -3.35256696e-01,\n",
              "              -6.33455664e-02, -1.81913376e-01,  2.69211173e-01, -6.58174455e-01,\n",
              "              -2.70607758e+00,  9.09264326e-01, -1.17933702e+00,  2.17038655e+00,\n",
              "              -5.23247063e-01, -7.12107301e-01, -3.67920309e-01, -2.24236465e+00,\n",
              "               1.60944664e+00,  6.56864405e-01, -4.81033117e-01,  1.80383360e+00,\n",
              "               2.76688933e-01,  4.20777708e-01,  1.06027102e+00, -2.51475382e+00,\n",
              "               9.51931119e-01, -7.50367418e-02,  1.41822231e+00,  1.55670261e+00,\n",
              "              -5.46611361e-02, -4.24556673e-01,  2.83562213e-01, -2.52125239e+00,\n",
              "              -1.64364564e+00,  9.76943254e-01, -9.59758997e-01, -1.62318230e+00,\n",
              "              -1.95479119e+00, -3.85904431e-01, -5.33799052e-01, -1.48867786e-01,\n",
              "               1.18696606e+00, -8.24077800e-02, -1.37551880e+00, -1.91876352e+00,\n",
              "              -1.41535723e+00, -8.49782228e-01,  1.78286791e+00, -6.59943074e-02,\n",
              "              -4.73110050e-01,  5.17149985e-01,  2.24164426e-01, -3.43074888e-01,\n",
              "              -9.38407660e-01, -1.47672504e-01,  1.74567437e+00,  8.32158864e-01,\n",
              "              -7.12007761e-01,  8.89154553e-01, -6.35108888e-01, -6.45636916e-01,\n",
              "               7.58655548e-01,  4.47827816e-01, -5.92729986e-01, -1.15612245e+00,\n",
              "              -2.00334549e+00,  9.82674360e-01,  1.66754568e+00, -2.08461094e+00,\n",
              "               1.43408227e+00, -1.28620780e+00,  1.36068940e-01,  6.68603897e-01,\n",
              "              -1.14127362e+00, -1.12247777e+00,  6.44683361e-01, -1.06864348e-01,\n",
              "               1.71396568e-01, -3.64074439e-01, -3.71294916e-01,  1.04068780e+00,\n",
              "              -1.96527207e+00, -2.49659324e+00,  1.07144438e-01, -1.10569775e+00,\n",
              "               1.60151792e+00,  2.80440506e-03,  7.74416625e-01, -1.30843055e+00,\n",
              "               3.36828500e-01, -6.71122253e-01, -2.04660559e+00, -1.99286714e-01,\n",
              "               6.01871274e-02, -6.99568868e-01, -1.35226679e+00, -2.63567090e+00,\n",
              "               6.85336113e-01, -3.50137800e-01,  1.36017442e+00, -1.06733337e-01,\n",
              "              -6.64361119e-01, -1.47662163e-01,  1.33619118e+00, -1.22767007e+00,\n",
              "              -7.34437764e-01,  4.80096608e-01, -6.53295577e-01, -2.37772870e+00,\n",
              "               2.60524106e+00, -1.66612208e+00, -1.10203004e+00,  2.52733350e-01],\n",
              "             dtype=float32)                                                       ,\n",
              "       array([-0.8554278 ,  0.03432389, -1.168391  ,  0.6399532 ,  3.2104523 ,\n",
              "              -0.03615427,  2.4532344 ,  3.546362  , -1.0491468 , -0.9757913 ,\n",
              "               0.7366017 ,  1.4122512 , -2.6835892 ,  0.01156903, -0.7495548 ,\n",
              "              -0.22486956,  0.7237437 , -1.4660051 , -0.43502393,  2.3709888 ,\n",
              "              -0.0827539 ,  1.9564548 ,  0.7491283 ,  0.32677892, -0.97496474,\n",
              "              -0.5857019 , -2.4636223 ,  0.5599494 ,  0.11281884, -0.3012428 ,\n",
              "               1.9936768 ,  0.3685204 ,  0.6162023 ,  1.2534797 , -0.28403696,\n",
              "              -2.2264237 , -0.8152386 , -0.11180083, -0.38828906,  0.33832818,\n",
              "              -1.5813301 ,  0.05762956,  0.01381454,  2.1369946 , -1.0413864 ,\n",
              "              -0.5481965 ,  1.1704688 , -0.68149084, -0.1401118 , -0.07746769,\n",
              "               0.06447126,  0.46650347,  1.1188575 , -1.8812886 ,  0.24807863,\n",
              "               1.3840083 , -1.5366608 ,  0.43368745,  1.9009815 , -1.5307232 ,\n",
              "              -0.7747797 ,  1.1599487 , -0.63105977,  1.0460383 ,  2.922766  ,\n",
              "              -0.09696115, -1.60748   , -0.48761857, -0.38313523,  2.5941837 ,\n",
              "               0.4903309 , -0.774533  ,  0.20157236, -1.1236473 , -0.35975188,\n",
              "               1.642108  , -1.0898832 ,  0.96562296, -0.4653262 ,  0.65998864,\n",
              "              -1.7627388 , -0.65425485, -0.4166852 ,  0.52624047,  0.5636221 ,\n",
              "               0.24886651, -0.20555961, -2.9661727 , -0.86788344, -0.35791305,\n",
              "              -0.50055367,  0.68983495,  2.0145512 , -0.11042259,  0.53106266,\n",
              "               0.84112954,  0.74943525, -0.44631597,  1.4009922 ,  0.84109056,\n",
              "               1.8340485 , -0.52572566,  1.199191  ,  0.9994515 , -0.93438345,\n",
              "               2.3670895 , -1.2769154 , -0.4975731 , -0.37444934, -2.4691465 ,\n",
              "              -1.1431102 , -0.48684955,  1.0636321 , -0.11561083,  0.89820886,\n",
              "               1.3855151 , -2.9590096 , -1.3648599 , -0.61850107,  0.03363263,\n",
              "               0.28916186, -1.8940526 ,  1.2509104 , -0.49528852, -1.0479059 ,\n",
              "              -1.260414  ,  2.0309079 ,  0.3371087 ,  1.4865357 ,  0.18182957,\n",
              "              -3.3498855 , -1.1017191 ,  1.5281744 , -0.4581906 , -1.083755  ,\n",
              "               0.13569953, -1.5272416 ,  1.2601615 ,  2.285149  , -0.02542756,\n",
              "              -0.4329761 ,  0.32018393, -1.2143117 ,  0.339857  , -0.1326348 ,\n",
              "               0.6701921 , -3.2686071 , -1.8316536 ,  1.3113483 ,  1.266548  ,\n",
              "               0.6405473 ,  0.10782082,  0.7847087 ,  1.742294  ,  0.55106026,\n",
              "              -1.6374426 ,  2.0665731 , -0.35604128, -1.813735  , -1.8461629 ,\n",
              "               0.12317023, -2.3164146 ,  0.58177835,  1.1285796 , -1.7777005 ,\n",
              "               0.20567073,  0.05807148,  0.77076656,  1.2346752 ,  0.97675645,\n",
              "              -0.15730327,  1.4414032 , -0.11763347, -0.49991652,  1.652635  ,\n",
              "               1.3938756 , -0.9658334 , -0.68895894, -1.3904784 , -0.5170013 ,\n",
              "              -0.71972597,  0.36599433,  0.51989734,  2.0229146 , -0.48795056,\n",
              "              -0.93802875, -0.10701526, -0.12179042,  1.0179186 , -0.08856615,\n",
              "               0.9607582 , -0.5484661 , -0.33607543, -0.12376396,  1.7051164 ,\n",
              "               0.4862287 , -1.4355754 , -0.53409404, -1.5089833 ,  1.1922351 ,\n",
              "              -0.6691604 , -1.6780077 ,  1.3854456 , -1.246231  ,  1.8915749 ,\n",
              "               1.5521864 ,  1.0220804 ,  1.734751  ,  0.14593261, -0.03235084,\n",
              "               0.6280057 , -0.13014542, -0.6213909 , -0.7889511 ,  1.1902821 ,\n",
              "              -0.50097483,  2.4546852 , -0.5203218 , -0.41010955, -0.1857535 ,\n",
              "              -0.8959622 , -0.75176275, -1.110299  ,  0.12874348, -1.2195349 ,\n",
              "              -1.4791989 , -0.0373764 ,  2.2308707 ,  0.38348174, -0.12434265,\n",
              "               1.3421352 , -1.2034099 , -1.6265105 ,  0.35251373,  1.1676304 ,\n",
              "               0.9770917 , -0.48972213,  0.5481096 , -1.0324746 ,  0.52468973,\n",
              "              -0.6959618 ,  0.10670387,  0.84896624,  0.452123  ,  0.06059383,\n",
              "               2.043165  , -0.17414363,  0.92384213,  0.724379  ,  0.99678147,\n",
              "               0.06759439, -1.8811293 , -2.3388648 , -0.0298522 ,  0.62151587,\n",
              "               0.90692824,  0.9368831 , -0.04675864,  0.02278846,  1.2641927 ,\n",
              "              -1.5615312 ,  1.0325005 ,  0.10617141,  0.2548817 ,  0.8324079 ,\n",
              "              -1.4025621 , -0.9338909 ,  1.5918095 , -2.104021  ,  0.8127024 ,\n",
              "              -1.2301925 ,  1.3818827 , -1.3650513 , -1.0042537 ,  0.41939852,\n",
              "               0.35030428,  0.52410877, -0.9486503 , -0.4048692 ,  0.599662  ,\n",
              "               1.5879394 , -0.4469209 ,  0.18294255,  0.34908053,  1.3916407 ,\n",
              "              -0.33282605,  0.57463914,  0.37231943, -1.2208853 ,  0.29749295,\n",
              "               1.8553255 , -0.20449725, -0.73372823,  0.6258732 , -0.63903093,\n",
              "               0.48289543,  1.6623956 , -1.0741739 ,  0.00478265,  1.294055  ],\n",
              "             dtype=float32)                                                    ,\n",
              "       array([-2.65328407e+00,  3.03747982e-01, -7.85340011e-01,  1.57483983e+00,\n",
              "               9.15611088e-01,  6.52604043e-01,  1.72273409e+00,  2.63605127e-03,\n",
              "               4.84712034e-01, -1.75680602e+00,  2.77982593e+00, -1.55850008e-01,\n",
              "              -7.82060027e-01, -8.47840160e-02,  1.04835200e+00,  1.15897632e+00,\n",
              "               5.66636026e-01,  3.87383997e-01,  1.16179939e-02, -2.07183218e+00,\n",
              "              -3.31828952e-01, -1.52811992e+00, -1.02661610e+00,  7.36595988e-01,\n",
              "               1.11540079e-01,  8.49384010e-01, -4.67151976e+00, -6.88217998e-01,\n",
              "               1.73769403e+00, -1.37036812e+00,  1.71817398e+00,  7.07681954e-01,\n",
              "               1.61693960e-01, -2.78236008e+00, -3.38399895e-02, -2.97980618e+00,\n",
              "              -1.20417202e+00, -4.36511993e-01, -6.95040226e-02,  6.68523967e-01,\n",
              "              -2.63729990e-01,  3.04717988e-01,  4.84779924e-01,  1.20004082e+00,\n",
              "              -1.56475997e+00,  1.39455199e+00, -6.78026021e-01,  5.13700008e-01,\n",
              "               5.58133960e-01, -5.26100174e-02, -1.80405974e-01,  2.63592005e+00,\n",
              "              -6.76602066e-01, -7.48795986e-01, -1.45231402e+00,  1.28168011e+00,\n",
              "              -1.52937603e+00, -8.91869843e-01, -4.53004846e-03,  1.84588587e+00,\n",
              "               5.88396013e-01,  7.43433952e-01,  2.29000095e-02, -4.07041967e-01,\n",
              "               4.48632002e+00,  3.39981794e+00, -2.07998204e+00, -1.05380201e+00,\n",
              "               1.27105999e+00,  5.79118013e-01, -4.31627989e-01, -2.30817986e+00,\n",
              "              -1.45382595e+00, -5.66280007e-01, -8.73021960e-01,  2.52827191e+00,\n",
              "              -7.05040991e-01,  1.80762804e+00,  6.14519238e-01,  2.28876996e+00,\n",
              "              -2.05409980e+00, -1.83215773e+00,  1.46648383e+00,  8.66757989e-01,\n",
              "               1.19782758e+00, -2.20095396e+00, -5.36279976e-01, -2.68856001e+00,\n",
              "               5.59162021e-01,  3.97579998e-01,  6.70597970e-01,  2.27171087e+00,\n",
              "              -9.89596009e-01, -1.54691979e-01, -3.10167980e+00,  2.07370996e+00,\n",
              "               2.98466027e-01, -4.13405991e+00, -7.22139955e-01,  1.34798205e+00,\n",
              "               2.92414999e+00, -8.38513970e-01,  4.64159966e-01,  3.93774033e+00,\n",
              "               2.60621011e-01,  7.83814073e-01, -1.25223994e+00, -2.78953880e-01,\n",
              "               9.39575970e-01, -1.32155609e+00,  1.14103794e+00, -1.35340190e+00,\n",
              "              -3.26842189e+00,  2.41824001e-01,  8.95588100e-01,  1.15954590e+00,\n",
              "              -9.77392018e-01,  8.81700069e-02, -5.28463006e-01,  5.19585609e-01,\n",
              "              -1.44694006e+00, -1.02260399e+00,  4.43401992e-01, -1.17407990e+00,\n",
              "              -1.11922204e+00, -2.48815727e+00,  1.19596207e+00, -2.00811195e+00,\n",
              "               1.67948401e+00, -1.28291603e-02, -1.04017997e+00, -6.76764071e-01,\n",
              "               3.40542018e-01,  1.04726803e+00, -7.11800084e-02,  5.40441990e-01,\n",
              "              -3.28934789e+00,  1.07727385e+00,  4.39261138e-01, -1.63053954e+00,\n",
              "               1.77098006e-01,  8.33466053e-01, -1.37828529e+00, -2.39713997e-01,\n",
              "               4.75691974e-01, -1.57539994e-01, -3.61670804e+00, -2.56809378e+00,\n",
              "               3.87494028e-01,  2.76416004e-01,  5.55115998e-01, -1.19852996e+00,\n",
              "               1.28760010e-01,  1.10950005e+00, -1.89106011e+00,  9.17199627e-02,\n",
              "               1.06982601e+00,  1.81581998e+00,  2.01826191e+00, -2.12152004e+00,\n",
              "              -7.34399974e-01, -2.08058214e+00, -1.76141953e+00,  2.16496706e+00,\n",
              "              -3.15394378e+00, -3.23468000e-01, -1.16847599e+00, -1.58473432e+00,\n",
              "              -1.43319201e+00,  4.60139997e-02,  1.80593997e-01,  7.85718024e-01,\n",
              "               3.42979968e-01, -1.61197090e+00,  1.43497014e+00, -8.32800090e-01,\n",
              "               1.63549975e-01,  8.67172062e-01, -1.37108013e-01, -3.66123974e-01,\n",
              "              -7.06746101e-01,  9.80827987e-01,  4.38328013e-02, -1.14397407e+00,\n",
              "               7.34589994e-01,  8.36240113e-01,  7.12822020e-01,  7.13277936e-01,\n",
              "               1.37272394e+00, -1.59410000e-01, -5.34578025e-01, -1.67319298e+00,\n",
              "              -4.45972115e-01, -5.66180050e-01,  7.73011863e-01, -1.42219976e-01,\n",
              "              -3.81927943e+00,  1.74667984e-01, -4.80959892e-01, -1.42751992e-01,\n",
              "              -2.07620811e+00,  3.25657994e-01, -2.71649218e+00, -2.66174006e+00,\n",
              "               1.08627200e+00,  3.45550656e-01, -2.25126004e+00,  2.08784372e-01,\n",
              "              -1.05056000e+00, -2.21639991e-01,  6.28774822e-01,  6.15399852e-02,\n",
              "              -3.13030005e-01,  3.96617204e-01,  2.46125984e+00,  1.50103605e+00,\n",
              "               2.42113978e-01, -1.04620397e+00, -1.71628606e+00, -7.60445952e-01,\n",
              "              -3.85298014e-01,  4.53583956e-01, -7.70212054e-01,  9.10519958e-01,\n",
              "               8.85360688e-02,  6.62089944e-01, -1.79520607e+00, -1.02807999e+00,\n",
              "               2.27494031e-01,  1.10393202e+00, -6.66897953e-01, -2.94358075e-01,\n",
              "               1.27560997e+00,  5.32080054e-01,  1.16641402e+00,  1.71024394e+00,\n",
              "              -1.44942009e+00,  1.34339404e+00,  3.91014040e-01, -2.69475818e+00,\n",
              "              -9.65981960e-01, -9.54804063e-01, -1.49464202e+00,  7.61301994e-01,\n",
              "              -2.22450805e+00,  7.65673995e-01,  9.45919976e-02, -6.21018171e-01,\n",
              "              -2.42129892e-01,  7.95498013e-01,  9.92304027e-01, -3.47539973e+00,\n",
              "              -1.99390793e+00,  1.96901584e+00,  1.50669789e+00, -1.33685791e+00,\n",
              "               2.74184179e+00, -4.90755945e-01,  2.68546820e+00,  8.10464025e-01,\n",
              "              -2.04511976e+00, -1.07513785e+00, -1.79991931e-01, -4.60799992e-01,\n",
              "              -1.02720022e-01, -8.96023929e-01, -1.59263611e+00,  1.49295807e+00,\n",
              "              -2.35974002e+00, -3.27976418e+00,  8.75068069e-01,  1.55556053e-01,\n",
              "               2.17563200e+00, -2.73603988e+00,  2.09151983e+00,  7.20646024e-01,\n",
              "               6.61913991e-01, -1.68000197e+00,  1.52189207e+00,  2.79083180e+00,\n",
              "               1.94631803e+00,  1.89425206e+00,  3.48987997e-01, -3.02988577e+00,\n",
              "               2.83692032e-01,  1.83184814e+00,  2.08642793e+00, -1.02134034e-01,\n",
              "               1.34580046e-01,  5.78500032e-01,  1.85502589e+00, -1.58802807e+00,\n",
              "              -2.33413965e-01,  1.75641179e+00,  1.59092808e+00, -7.52984047e-01,\n",
              "              -2.51159996e-01, -1.23631191e+00, -1.62387812e+00, -3.39437413e+00],\n",
              "             dtype=float32)                                                       ,\n",
              "       ...,\n",
              "       array([ 8.43284965e-01, -3.15400004e-01, -1.41949987e+00,  6.44755006e-01,\n",
              "               3.43160009e+00,  8.49609971e-01,  1.52221799e+00,  7.48113513e-01,\n",
              "              -3.93511486e+00, -1.69555497e+00,  7.39234984e-01, -6.64775014e-01,\n",
              "               9.72219944e-01, -2.78475499e+00, -1.02322507e+00, -5.77500463e-02,\n",
              "               1.57344997e+00,  1.25397992e+00,  1.17509496e+00,  3.47110009e+00,\n",
              "               2.31164646e+00,  1.55964994e+00,  2.92248487e+00,  1.02827048e+00,\n",
              "               2.11527014e+00,  1.50697005e+00,  5.25944948e-01, -6.77344978e-01,\n",
              "               2.40430498e+00, -2.48629999e+00, -3.15071487e+00,  3.90795016e+00,\n",
              "              -6.90479994e-01,  3.29705000e+00, -4.75670004e+00, -1.55994999e+00,\n",
              "              -3.36349905e-02, -3.50220013e+00,  7.42999911e-02,  2.78395009e+00,\n",
              "              -1.14111996e+00, -1.74815029e-01,  8.79965007e-01,  1.72479999e+00,\n",
              "              -9.65604961e-01, -7.42664993e-01, -4.64759976e-01,  2.01705003e+00,\n",
              "              -1.12682498e+00,  1.11050999e+00, -5.88174999e-01,  1.82120502e+00,\n",
              "               2.43865013e+00,  4.54881954e+00, -5.43145001e-01, -3.18335009e+00,\n",
              "              -2.16354012e+00, -2.77553988e+00, -1.01269758e+00, -1.59493005e+00,\n",
              "               3.14774990e-01,  2.88825005e-01, -3.40825009e+00, -6.47049904e-01,\n",
              "               1.06421447e+00, -1.01815009e+00, -1.02314496e+00, -1.24014997e+00,\n",
              "              -1.22844994e+00,  8.77020001e-01,  2.69350111e-02,  8.92260015e-01,\n",
              "              -2.87185001e+00,  3.78199935e-01, -3.28750014e-02,  1.79389501e+00,\n",
              "               3.12545031e-01,  1.90375006e+00, -1.85168254e+00, -2.53542495e+00,\n",
              "               1.39754999e+00, -2.26994991e+00, -5.75335026e-01, -5.91300011e-01,\n",
              "              -5.19799948e-01, -4.34985018e+00, -1.00819993e+00, -8.53984952e-01,\n",
              "              -1.29337001e+00, -1.56702495e+00,  1.80859995e+00,  1.07889998e+00,\n",
              "              -7.82840014e-01,  2.65002251e-03,  1.90030003e+00,  2.11156511e+00,\n",
              "              -1.52036503e-01,  3.05127501e+00, -1.71646500e+00,  1.20483494e+00,\n",
              "               1.11658502e+00, -1.41785002e+00, -1.31760001e+00,  3.86459994e+00,\n",
              "               1.54287004e+00,  6.16695046e-01,  8.78239989e-01, -2.05695003e-01,\n",
              "               4.06345010e-01, -2.49495983e+00, -1.01541007e+00,  2.24230003e+00,\n",
              "              -2.65499949e-03,  1.71619996e-01,  3.71350050e-01, -1.54084992e+00,\n",
              "               3.59204978e-01,  2.38619995e+00, -3.14170003e+00,  8.28734994e-01,\n",
              "              -6.56200051e-01, -1.96618497e+00,  1.96520007e+00, -1.64410007e+00,\n",
              "              -1.98000503e+00,  9.21000242e-02,  1.05289996e+00,  1.58749938e-01,\n",
              "               1.84529996e+00, -2.84829998e+00, -2.16844988e+00,  2.02045012e+00,\n",
              "               1.98804998e+00,  4.38650012e-01, -2.25600505e+00,  1.14787006e+00,\n",
              "               6.60949945e-02, -3.90500009e-01,  5.65545022e-01,  3.39471984e+00,\n",
              "              -1.54486501e+00,  3.31544966e-01, -2.29334998e+00, -5.82450032e-01,\n",
              "              -1.45367491e+00, -1.33990002e+00, -9.50300038e-01,  2.46269989e+00,\n",
              "              -1.89574993e+00,  5.38195014e-01,  1.53024995e+00, -1.22487998e+00,\n",
              "               1.16450071e-01,  2.33130002e+00,  1.31715000e+00, -2.39010000e+00,\n",
              "              -2.29075003e+00, -2.93200016e-01, -1.83899999e+00, -2.15304995e+00,\n",
              "               1.05579996e+00,  3.12764001e+00,  7.74539948e-01,  4.87520009e-01,\n",
              "              -1.09505999e+00,  1.88779998e+00, -1.42474502e-01, -6.57350004e-01,\n",
              "              -1.94422495e+00, -3.95335007e+00,  1.30176008e+00,  4.71390009e-01,\n",
              "              -5.60800076e-01, -1.86427999e+00,  1.02101493e+00,  2.29629993e-01,\n",
              "              -7.31474996e-01, -1.95139992e+00, -4.27230000e-01, -1.02129996e+00,\n",
              "               3.16714972e-01, -1.56355000e+00,  4.28209990e-01,  5.39988279e-04,\n",
              "              -4.40600216e-02, -9.84539986e-01,  2.63912511e+00, -1.41468501e+00,\n",
              "              -2.23184991e+00,  5.86000085e-02,  2.29411507e+00, -8.27314973e-01,\n",
              "               2.64701986e+00,  2.34070015e+00,  2.26994991e+00, -3.30231488e-01,\n",
              "               2.90996504e+00,  1.21046996e+00, -5.81699967e-01, -3.59464973e-01,\n",
              "               2.93106008e+00,  7.46969998e-01, -9.30794060e-01, -9.65804994e-01,\n",
              "               1.69224000e+00,  4.48130012e-01, -2.91911507e+00, -1.89614999e+00,\n",
              "               2.52235484e+00, -2.81480002e+00, -3.55254984e+00,  3.66765022e-01,\n",
              "               3.53283000e+00, -4.04449999e-01, -9.83974993e-01,  2.69067001e+00,\n",
              "              -3.20309997e-01,  2.22580504e+00,  2.19120002e+00,  1.20377004e+00,\n",
              "              -2.57132006e+00,  6.62350059e-01, -3.86891985e+00,  1.08367491e+00,\n",
              "               3.56400013e-01, -5.30004978e-01, -8.78050029e-01,  3.71010017e+00,\n",
              "               1.04364991e+00, -1.87870800e+00,  3.51150006e-01,  8.60719979e-01,\n",
              "              -2.92003012e+00, -5.10904980e+00, -6.81344986e-01, -7.24744976e-01,\n",
              "               2.34960008e+00,  1.52960002e+00,  2.30300009e-01,  6.70279980e-01,\n",
              "               3.89599800e-02, -5.58475018e-01,  2.43634987e+00, -4.27038527e+00,\n",
              "               1.21840000e+00, -2.84605694e+00, -4.83999848e-02, -3.37721491e+00,\n",
              "              -2.25981998e+00,  1.77455497e+00, -1.56849885e+00, -5.37900031e-01,\n",
              "               5.70450008e-01,  6.46740019e-01,  1.44932497e+00,  8.77550006e-01,\n",
              "              -5.66449940e-01, -3.31280017e+00,  2.88334012e+00,  1.50186992e+00,\n",
              "               2.16224998e-01, -1.95274806e+00,  2.81730509e+00, -6.95885062e-01,\n",
              "               1.59696490e-01, -4.44810033e-01, -1.66784972e-01, -1.28468657e+00,\n",
              "               5.67950070e-01,  7.60329962e-01,  3.40425014e-01, -1.17085004e+00,\n",
              "               3.53605008e+00,  3.97102499e+00, -1.10725015e-01,  8.72534037e-01,\n",
              "               2.25434989e-01, -5.69999814e-02,  1.53780007e+00, -2.39734507e+00,\n",
              "              -1.28375506e+00, -7.39749968e-01,  1.00050032e-01, -3.75095010e+00,\n",
              "              -1.49202502e+00,  2.11783504e+00, -1.67402506e+00,  2.17901006e-01,\n",
              "              -3.17100000e+00, -1.38249993e+00,  1.70884991e+00, -2.95454979e-01,\n",
              "              -1.96694994e+00,  6.97299957e-01, -2.49165010e+00, -1.82445002e+00,\n",
              "               5.69959998e-01, -1.24033499e+00,  7.36665010e-01,  1.63408649e+00],\n",
              "             dtype=float32)                                                       ,\n",
              "       array([-2.32992148e+00,  8.62531662e-01,  7.89807662e-02,  9.30267572e-01,\n",
              "               8.21364224e-01,  8.73937547e-01,  1.49727857e+00, -5.66339910e-01,\n",
              "               6.80652440e-01,  1.89343369e+00, -7.61371613e-01,  1.60320282e+00,\n",
              "               1.13623224e-01,  9.16314900e-01, -3.84846516e-02,  8.14598322e-01,\n",
              "               2.13761449e+00,  9.01329219e-01,  1.77380836e+00,  2.71441293e+00,\n",
              "               1.86061680e-01,  6.89481556e-01,  8.23366880e-01, -6.80171669e-01,\n",
              "               1.19927871e+00,  5.98970175e-01, -2.22796917e+00, -4.93502408e-01,\n",
              "               5.66580832e-01, -1.41404331e+00,  2.82534152e-01,  7.90221214e-01,\n",
              "               2.10695013e-01,  1.50013924e+00, -2.84875369e+00, -1.33291912e+00,\n",
              "              -2.20629501e+00,  6.26639187e-01, -1.46959746e+00, -5.94385803e-01,\n",
              "              -1.18680084e+00, -1.80368769e+00, -1.99349120e-01,  1.88221347e+00,\n",
              "              -3.91025305e-01, -1.20014846e+00, -2.48224020e-01, -2.39551592e+00,\n",
              "               1.38230717e+00, -1.73349217e-01,  2.08187675e+00, -1.07608242e-02,\n",
              "               1.37344503e+00,  7.15315819e-01,  3.15017551e-01,  7.27995872e-01,\n",
              "               7.81767905e-01, -1.29171574e+00,  5.28908312e-01,  4.04334098e-01,\n",
              "              -1.82417738e+00, -1.18809009e+00, -1.67830658e+00,  4.12890106e-01,\n",
              "               6.04701698e-01, -1.67099464e+00, -8.87536585e-01, -2.03649831e+00,\n",
              "               1.22669213e-01, -4.21168795e-03, -1.82118490e-01,  8.83346081e-01,\n",
              "               1.13537550e-01, -3.74186754e-01,  9.34310675e-01, -3.44778299e-01,\n",
              "               7.45835423e-04,  1.13225079e+00,  3.97111624e-01, -7.77033329e-01,\n",
              "               3.08510870e-01, -1.40205991e+00, -1.22797012e+00,  1.59524071e+00,\n",
              "               4.56424952e-02, -5.67959189e-01,  5.61039925e-01,  4.38225836e-01,\n",
              "               4.72433120e-02,  4.57778335e-01, -1.60108674e+00,  2.44500831e-01,\n",
              "               1.52526414e+00, -6.77177429e-01,  1.90077162e+00, -1.06711578e+00,\n",
              "              -8.59607518e-01,  7.72534132e-01,  1.34132576e+00,  2.92498380e-01,\n",
              "              -3.96477491e-01, -2.04137897e+00,  6.34325802e-01, -5.18486679e-01,\n",
              "              -2.70088506e+00, -4.88190800e-01, -2.03877613e-01,  1.25832510e+00,\n",
              "              -5.84162891e-01, -1.80545664e+00, -1.83144331e+00, -9.18048546e-02,\n",
              "              -1.36166084e+00,  1.07328010e+00,  1.60771000e+00, -2.14537337e-01,\n",
              "              -6.89139128e-01,  5.45135021e-01,  1.05596173e+00,  7.33937502e-01,\n",
              "              -4.43343371e-01, -9.55401659e-01,  2.02376679e-01, -7.48264074e-01,\n",
              "               8.03803265e-01, -8.79108369e-01,  2.26058221e+00, -4.49375123e-01,\n",
              "               2.24667835e+00,  5.04622519e-01, -2.37900078e-01,  2.46834993e-01,\n",
              "               5.33120096e-01, -2.12696031e-01, -6.28575861e-01,  2.10715580e+00,\n",
              "               2.71828145e-01,  1.64914563e-01,  9.79146659e-01, -1.00803387e+00,\n",
              "              -4.54579163e+00, -2.08530593e+00, -1.01420093e+00,  8.06004286e-01,\n",
              "               1.91748068e-01,  1.56470880e-01, -3.23395085e+00,  4.98610824e-01,\n",
              "              -1.28613436e+00, -4.78495836e-01,  4.46009159e-01, -8.78430068e-01,\n",
              "              -1.48226917e+00,  2.10620427e+00,  1.02978073e-01, -4.18688327e-01,\n",
              "               3.15222907e+00, -3.99029136e-01, -4.51742530e-01,  4.11645174e-01,\n",
              "               3.21187496e-01, -1.28548253e+00, -7.77902544e-01,  1.27989995e+00,\n",
              "              -2.45943522e+00, -9.73580062e-01,  1.83569953e-01,  2.81877607e-01,\n",
              "               3.21418852e-01, -3.88658345e-02, -9.13975015e-02,  4.51943398e-01,\n",
              "               2.69016743e+00,  6.81708336e-01,  6.29899085e-01, -2.76185095e-01,\n",
              "               1.04152083e+00,  3.10152799e-01, -6.16351664e-01, -2.13852167e+00,\n",
              "              -1.49486816e+00, -1.07114077e+00, -1.01840246e+00,  1.04257309e+00,\n",
              "              -5.15519977e-01, -9.96420860e-01,  8.10595751e-01,  1.58632457e-01,\n",
              "               3.71480703e-01, -1.21984921e-01, -3.75236720e-01,  7.86252785e-03,\n",
              "               1.28625166e+00,  1.10100305e+00, -2.54409999e-01,  2.32928634e-01,\n",
              "              -3.77049208e-01, -3.38386774e-01,  8.13399971e-01,  8.65920067e-01,\n",
              "               9.29393470e-01,  8.12543392e-01, -1.43001691e-01, -6.70899972e-02,\n",
              "              -2.14526725e+00, -1.24611890e+00, -1.91195345e+00,  4.92866546e-01,\n",
              "              -6.19374990e-01, -8.26063335e-01, -1.47637749e+00, -3.42882484e-01,\n",
              "              -2.93858200e-01,  9.12016630e-01, -1.01397419e+00,  8.64988744e-01,\n",
              "               1.30499876e+00, -3.03719163e-01,  1.09768999e+00,  7.91277587e-01,\n",
              "               1.66393414e-01, -1.18039584e+00,  5.10085821e-01,  1.84596586e+00,\n",
              "              -1.29778600e+00,  1.00117254e+00,  1.76596260e+00,  5.42416990e-01,\n",
              "               6.20835900e-01, -5.46576023e-01, -3.35226625e-01,  2.23189965e-01,\n",
              "              -3.04669112e-01, -1.59933221e+00,  2.79058367e-01, -4.99304205e-01,\n",
              "              -3.15400863e+00,  1.75443876e+00, -4.16057825e-01,  1.98278263e-01,\n",
              "               1.27731574e+00,  5.01804173e-01,  1.82336044e+00, -9.26571667e-01,\n",
              "              -1.35125041e-01,  1.95808411e-02,  1.51845837e+00, -2.97590852e-01,\n",
              "              -5.44595838e-01,  1.53155172e+00,  1.04271913e+00, -1.88447177e+00,\n",
              "              -2.26354241e+00,  1.94259679e+00, -9.05422628e-01, -7.54792511e-01,\n",
              "               1.35908413e+00, -9.82256830e-01, -7.96210393e-02,  1.93292558e+00,\n",
              "              -1.01282644e+00, -1.23436463e+00, -1.11314334e-01, -1.92042506e+00,\n",
              "              -2.12304139e+00, -3.17038327e-01,  1.26716745e+00, -8.68321598e-01,\n",
              "              -1.84522676e+00, -2.43380800e-01, -1.46590483e+00,  4.41179127e-01,\n",
              "              -7.57906735e-01,  1.07617807e+00,  1.07653105e+00,  6.54911041e-01,\n",
              "              -1.57465383e-01,  2.58484989e-01, -7.01934099e-01,  3.21469951e+00,\n",
              "              -2.41606522e+00, -1.29185176e+00,  7.18324259e-02,  2.74569154e-01,\n",
              "               1.58865654e+00, -5.99622428e-01, -6.48676336e-01, -6.93835080e-01,\n",
              "              -1.10233080e+00,  5.98640740e-01,  4.30035830e-01, -1.63237774e+00,\n",
              "               2.01909184e+00,  5.36025107e-01, -2.64088511e-01, -6.83133528e-02,\n",
              "               5.45399964e-01,  1.25353992e+00,  6.54467404e-01,  1.52467954e+00],\n",
              "             dtype=float32)                                                       ,\n",
              "       array([-2.48038   ,  0.28217518, -0.4465548 ,  1.5530193 ,  3.7528048 ,\n",
              "               1.1240888 ,  2.7621176 ,  4.3136854 , -1.2155273 , -1.3342613 ,\n",
              "               0.9729877 ,  0.90027004, -0.75708336,  0.0403992 , -0.872736  ,\n",
              "               1.3178067 , -0.96638143,  1.0612552 , -0.46760333,  1.730568  ,\n",
              "               0.11162663,  1.04404   ,  0.419944  ,  0.28737074,  0.8009841 ,\n",
              "               0.09429533, -1.95198   , -0.2217953 ,  1.5778493 , -0.31599313,\n",
              "               2.445733  ,  2.214364  ,  2.566991  , -2.4494808 , -2.5724652 ,\n",
              "              -2.1647353 ,  0.5754653 ,  0.26399997,  0.46174213, -0.414944  ,\n",
              "              -1.0663387 ,  0.4874343 , -0.5336914 ,  0.9651862 , -1.0020146 ,\n",
              "               0.4581817 , -0.13840672,  0.26347998,  1.3002418 ,  0.3649407 ,\n",
              "               1.1537303 ,  0.83539593, -1.6161753 , -0.31095204, -0.8322342 ,\n",
              "               2.64693   , -1.7966473 , -0.21956398,  0.54559606, -0.9685453 ,\n",
              "              -1.4454867 ,  1.7991674 , -0.31067193,  0.0225239 ,  2.2086465 ,\n",
              "               2.2797933 , -2.7515547 ,  1.3627205 , -0.8105899 ,  0.64125264,\n",
              "               1.20253   , -1.5277016 ,  0.76728565, -0.63648134, -0.6059727 ,\n",
              "               0.8305041 ,  0.2774661 , -0.3427233 ,  0.01327   ,  0.30319276,\n",
              "              -1.5622373 , -0.49636462, -0.3952387 , -0.34013322,  0.11143916,\n",
              "              -1.4216474 , -0.40913263,  0.67122626, -1.8556153 ,  0.8530771 ,\n",
              "              -2.5432322 ,  1.4596801 ,  0.17512512,  2.0090365 ,  1.1163067 ,\n",
              "               1.261188  , -0.13755731, -2.4311671 ,  2.8488095 ,  0.8603479 ,\n",
              "               1.736194  , -2.2002258 ,  2.6068447 ,  2.2127728 , -0.28548533,\n",
              "               2.4140584 , -1.627957  ,  0.12461664, -0.06368665, -2.4955733 ,\n",
              "              -1.4123919 , -2.209253  , -1.5342801 , -0.08195327, -1.7104334 ,\n",
              "               1.5925171 , -1.1372453 , -0.7825587 , -1.6587185 ,  0.73644215,\n",
              "               1.5086316 , -1.9656887 ,  0.6994279 , -2.0832942 , -2.3819096 ,\n",
              "              -1.376086  ,  0.53876007, -0.96196467,  1.9375528 ,  1.354214  ,\n",
              "              -1.4560047 , -1.9333898 ,  1.4735    ,  1.0781306 , -1.0985007 ,\n",
              "               1.0773927 ,  0.65519816,  2.133416  ,  0.3015507 ,  0.5170133 ,\n",
              "               0.19846664,  1.3730313 ,  1.1568215 , -0.9622191 ,  1.3325613 ,\n",
              "               1.819142  , -3.3460824 , -2.3276985 ,  0.0400133 ,  0.83878475,\n",
              "               0.7551588 , -0.26263598,  0.596366  ,  0.5101173 ,  0.5875547 ,\n",
              "              -0.29682985,  3.0987    , -0.8481007 , -0.46628127, -1.3162005 ,\n",
              "              -0.3671133 , -1.5057336 ,  1.7536266 ,  1.6975346 , -2.0568027 ,\n",
              "               2.6748545 , -0.37834802, -0.71813864, -1.2981433 ,  0.8847306 ,\n",
              "              -1.4449832 ,  1.444505  , -0.47598937, -0.23802601,  0.22150597,\n",
              "               2.6912093 , -1.531412  , -1.2633032 , -1.0948768 , -0.74417084,\n",
              "              -1.1775974 ,  0.83822733,  0.11086933,  1.5336132 , -1.1977074 ,\n",
              "               1.5617712 ,  1.0190394 ,  2.6613336 ,  0.64989203, -0.94658405,\n",
              "               0.38191926, -0.61989135, -1.6500843 , -1.3744701 ,  0.31460062,\n",
              "              -1.1621947 , -2.5480266 , -1.0373939 , -1.9712266 ,  0.5601333 ,\n",
              "               1.7394813 , -1.0838073 ,  2.1170506 , -1.7964475 ,  4.891827  ,\n",
              "              -0.43708915, -0.13602924,  0.7754767 , -0.46349204,  1.556698  ,\n",
              "               0.28082725,  0.6495283 , -0.6183733 ,  0.92423624,  1.5092307 ,\n",
              "               0.58584636,  1.6048083 , -1.5045048 , -0.472576  ,  0.071944  ,\n",
              "               0.82430667, -1.240116  , -0.2576153 , -1.0077087 , -2.406831  ,\n",
              "              -2.451122  , -0.92256266,  0.5338966 ,  0.78997046, -0.78239685,\n",
              "               1.6286708 , -2.3798366 , -0.69866735, -0.3272359 ,  1.6549973 ,\n",
              "               1.5481514 , -0.59773666,  1.8411952 , -3.0716555 ,  0.23632476,\n",
              "              -1.3034061 , -2.1628795 , -0.53011394,  0.7837894 ,  2.2325394 ,\n",
              "               1.357021  ,  0.257896  ,  1.8932477 ,  0.04131661,  1.7106415 ,\n",
              "               2.0434265 , -2.6641734 , -1.8315307 , -0.8656037 ,  0.08882998,\n",
              "               0.94238263,  1.0920013 , -1.7878574 ,  1.4529328 ,  0.9927574 ,\n",
              "               0.8758334 , -0.9243172 ,  0.88813263, -1.2285954 ,  0.43340865,\n",
              "              -1.8814594 , -0.7688901 ,  0.7486173 , -0.87225944, -0.11117461,\n",
              "              -0.9921047 , -0.07658003,  0.5924747 ,  0.02536281, -1.2097946 ,\n",
              "               0.95701593, -1.1365763 , -1.379852  ,  0.3361413 ,  1.406368  ,\n",
              "               1.293654  , -0.07477067,  1.5077367 , -0.60901004,  0.81941724,\n",
              "              -1.4830606 ,  0.3555    , -0.8075593 , -1.4852979 , -0.49593464,\n",
              "              -0.8250933 ,  0.36423132, -0.9055973 ,  2.7434075 , -1.5766224 ,\n",
              "               0.942082  ,  1.3978294 , -1.40108   ,  0.185912  ,  0.14032663],\n",
              "             dtype=float32)                                                    ],\n",
              "      dtype=object)"
            ]
          },
          "metadata": {},
          "execution_count": 11
        }
      ]
    },
    {
      "cell_type": "code",
      "source": [
        "import numpy as np\n",
        "\n",
        "x_train_2d=np.stack(x_train)\n",
        "x_test_2d=np.stack(x_test)"
      ],
      "metadata": {
        "id": "2Y0JZaa8DzRL"
      },
      "execution_count": 12,
      "outputs": []
    },
    {
      "cell_type": "markdown",
      "source": [
        "## **Decision Tree as the Classifier**"
      ],
      "metadata": {
        "id": "p5GMj3ApGR6B"
      }
    },
    {
      "cell_type": "code",
      "source": [
        "#Decision Tree as the classifier\n",
        "\n",
        "from sklearn.tree import DecisionTreeClassifier\n",
        "#create a Decision Tree model object\n",
        "clf=DecisionTreeClassifier()\n",
        "#fit with all train embeddings and y_train\n",
        "clf.fit(x_train_2d,y_train)\n",
        "#get the predictions for all test embeddings and store it in y_pred\n",
        "y_pred=clf.predict(x_test_2d)"
      ],
      "metadata": {
        "id": "COuEHnRPD9Dk"
      },
      "execution_count": 13,
      "outputs": []
    },
    {
      "cell_type": "code",
      "source": [
        "from sklearn.metrics import classification_report\n",
        "\n",
        "#print classification report\n",
        "print(classification_report(y_test,y_pred))"
      ],
      "metadata": {
        "colab": {
          "base_uri": "https://localhost:8080/"
        },
        "id": "z6_SUYFUGBjK",
        "outputId": "af316b69-ba86-42df-e899-660a6410664d"
      },
      "execution_count": 15,
      "outputs": [
        {
          "output_type": "stream",
          "name": "stdout",
          "text": [
            "              precision    recall  f1-score   support\n",
            "\n",
            "           0       0.71      0.76      0.73       487\n",
            "           1       0.71      0.71      0.71       501\n",
            "           2       0.76      0.72      0.74       512\n",
            "\n",
            "    accuracy                           0.73      1500\n",
            "   macro avg       0.73      0.73      0.73      1500\n",
            "weighted avg       0.73      0.73      0.73      1500\n",
            "\n"
          ]
        }
      ]
    },
    {
      "cell_type": "markdown",
      "source": [
        "## Multinomial Naive Bayes as the classifier"
      ],
      "metadata": {
        "id": "9TDH6IPaGZ28"
      }
    },
    {
      "cell_type": "code",
      "source": [
        "from sklearn.naive_bayes import MultinomialNB\n",
        "from sklearn.preprocessing import MinMaxScaler\n",
        "\n",
        "#we do scaling because the 300 dimensional vector have negative values and they cant be passed into Naive Bayes classifierTherefore used MinMaxScaler such that the values are brought down between 0 to 1\n",
        "\n",
        "scaler=MinMaxScaler()\n",
        "scaled_train_embed=scaler.fit_transform(x_train_2d)\n",
        "scaled_test_embed=scaler.fit_transform(x_test_2d)\n",
        "\n",
        "clf=MultinomialNB()\n",
        "clf.fit(scaled_train_embed,y_train)"
      ],
      "metadata": {
        "colab": {
          "base_uri": "https://localhost:8080/",
          "height": 74
        },
        "id": "16twF3BTGhG-",
        "outputId": "be5ead34-f41c-43a5-dfc4-1becaa41b342"
      },
      "execution_count": 16,
      "outputs": [
        {
          "output_type": "execute_result",
          "data": {
            "text/plain": [
              "MultinomialNB()"
            ],
            "text/html": [
              "<style>#sk-container-id-1 {color: black;background-color: white;}#sk-container-id-1 pre{padding: 0;}#sk-container-id-1 div.sk-toggleable {background-color: white;}#sk-container-id-1 label.sk-toggleable__label {cursor: pointer;display: block;width: 100%;margin-bottom: 0;padding: 0.3em;box-sizing: border-box;text-align: center;}#sk-container-id-1 label.sk-toggleable__label-arrow:before {content: \"▸\";float: left;margin-right: 0.25em;color: #696969;}#sk-container-id-1 label.sk-toggleable__label-arrow:hover:before {color: black;}#sk-container-id-1 div.sk-estimator:hover label.sk-toggleable__label-arrow:before {color: black;}#sk-container-id-1 div.sk-toggleable__content {max-height: 0;max-width: 0;overflow: hidden;text-align: left;background-color: #f0f8ff;}#sk-container-id-1 div.sk-toggleable__content pre {margin: 0.2em;color: black;border-radius: 0.25em;background-color: #f0f8ff;}#sk-container-id-1 input.sk-toggleable__control:checked~div.sk-toggleable__content {max-height: 200px;max-width: 100%;overflow: auto;}#sk-container-id-1 input.sk-toggleable__control:checked~label.sk-toggleable__label-arrow:before {content: \"▾\";}#sk-container-id-1 div.sk-estimator input.sk-toggleable__control:checked~label.sk-toggleable__label {background-color: #d4ebff;}#sk-container-id-1 div.sk-label input.sk-toggleable__control:checked~label.sk-toggleable__label {background-color: #d4ebff;}#sk-container-id-1 input.sk-hidden--visually {border: 0;clip: rect(1px 1px 1px 1px);clip: rect(1px, 1px, 1px, 1px);height: 1px;margin: -1px;overflow: hidden;padding: 0;position: absolute;width: 1px;}#sk-container-id-1 div.sk-estimator {font-family: monospace;background-color: #f0f8ff;border: 1px dotted black;border-radius: 0.25em;box-sizing: border-box;margin-bottom: 0.5em;}#sk-container-id-1 div.sk-estimator:hover {background-color: #d4ebff;}#sk-container-id-1 div.sk-parallel-item::after {content: \"\";width: 100%;border-bottom: 1px solid gray;flex-grow: 1;}#sk-container-id-1 div.sk-label:hover label.sk-toggleable__label {background-color: #d4ebff;}#sk-container-id-1 div.sk-serial::before {content: \"\";position: absolute;border-left: 1px solid gray;box-sizing: border-box;top: 0;bottom: 0;left: 50%;z-index: 0;}#sk-container-id-1 div.sk-serial {display: flex;flex-direction: column;align-items: center;background-color: white;padding-right: 0.2em;padding-left: 0.2em;position: relative;}#sk-container-id-1 div.sk-item {position: relative;z-index: 1;}#sk-container-id-1 div.sk-parallel {display: flex;align-items: stretch;justify-content: center;background-color: white;position: relative;}#sk-container-id-1 div.sk-item::before, #sk-container-id-1 div.sk-parallel-item::before {content: \"\";position: absolute;border-left: 1px solid gray;box-sizing: border-box;top: 0;bottom: 0;left: 50%;z-index: -1;}#sk-container-id-1 div.sk-parallel-item {display: flex;flex-direction: column;z-index: 1;position: relative;background-color: white;}#sk-container-id-1 div.sk-parallel-item:first-child::after {align-self: flex-end;width: 50%;}#sk-container-id-1 div.sk-parallel-item:last-child::after {align-self: flex-start;width: 50%;}#sk-container-id-1 div.sk-parallel-item:only-child::after {width: 0;}#sk-container-id-1 div.sk-dashed-wrapped {border: 1px dashed gray;margin: 0 0.4em 0.5em 0.4em;box-sizing: border-box;padding-bottom: 0.4em;background-color: white;}#sk-container-id-1 div.sk-label label {font-family: monospace;font-weight: bold;display: inline-block;line-height: 1.2em;}#sk-container-id-1 div.sk-label-container {text-align: center;}#sk-container-id-1 div.sk-container {/* jupyter's `normalize.less` sets `[hidden] { display: none; }` but bootstrap.min.css set `[hidden] { display: none !important; }` so we also need the `!important` here to be able to override the default hidden behavior on the sphinx rendered scikit-learn.org. See: https://github.com/scikit-learn/scikit-learn/issues/21755 */display: inline-block !important;position: relative;}#sk-container-id-1 div.sk-text-repr-fallback {display: none;}</style><div id=\"sk-container-id-1\" class=\"sk-top-container\"><div class=\"sk-text-repr-fallback\"><pre>MultinomialNB()</pre><b>In a Jupyter environment, please rerun this cell to show the HTML representation or trust the notebook. <br />On GitHub, the HTML representation is unable to render, please try loading this page with nbviewer.org.</b></div><div class=\"sk-container\" hidden><div class=\"sk-item\"><div class=\"sk-estimator sk-toggleable\"><input class=\"sk-toggleable__control sk-hidden--visually\" id=\"sk-estimator-id-1\" type=\"checkbox\" checked><label for=\"sk-estimator-id-1\" class=\"sk-toggleable__label sk-toggleable__label-arrow\">MultinomialNB</label><div class=\"sk-toggleable__content\"><pre>MultinomialNB()</pre></div></div></div></div></div>"
            ]
          },
          "metadata": {},
          "execution_count": 16
        }
      ]
    },
    {
      "cell_type": "code",
      "source": [
        "y_pred=clf.predict(scaled_test_embed)\n",
        "print(classification_report(y_test,y_pred))"
      ],
      "metadata": {
        "colab": {
          "base_uri": "https://localhost:8080/"
        },
        "id": "LPWfMtPaHHEW",
        "outputId": "87bd285d-8da7-4db5-c303-e12e75c6ac4d"
      },
      "execution_count": 18,
      "outputs": [
        {
          "output_type": "stream",
          "name": "stdout",
          "text": [
            "              precision    recall  f1-score   support\n",
            "\n",
            "           0       0.80      0.80      0.80       487\n",
            "           1       0.79      0.84      0.82       501\n",
            "           2       0.90      0.85      0.88       512\n",
            "\n",
            "    accuracy                           0.83      1500\n",
            "   macro avg       0.83      0.83      0.83      1500\n",
            "weighted avg       0.83      0.83      0.83      1500\n",
            "\n"
          ]
        }
      ]
    },
    {
      "cell_type": "markdown",
      "source": [
        "## KNeighborsClassifier as the classifier"
      ],
      "metadata": {
        "id": "bzIUfbFHHfMR"
      }
    },
    {
      "cell_type": "code",
      "source": [
        "from sklearn.neighbors import KNeighborsClassifier\n",
        "\n",
        "clf=KNeighborsClassifier(n_neighbors=5,metric='euclidean')\n",
        "clf.fit(x_train_2d,y_train)\n",
        "y_pred=clf.predict(x_test_2d)"
      ],
      "metadata": {
        "id": "BRu0EZGQHj0X"
      },
      "execution_count": 21,
      "outputs": []
    },
    {
      "cell_type": "code",
      "source": [
        "print(classification_report(y_test,y_pred))"
      ],
      "metadata": {
        "colab": {
          "base_uri": "https://localhost:8080/"
        },
        "id": "KMpg8fh0HxUb",
        "outputId": "ac1ec1a5-3f8e-469a-a290-aee0068fa7c5"
      },
      "execution_count": 22,
      "outputs": [
        {
          "output_type": "stream",
          "name": "stdout",
          "text": [
            "              precision    recall  f1-score   support\n",
            "\n",
            "           0       0.83      0.90      0.86       487\n",
            "           1       0.92      0.81      0.86       501\n",
            "           2       0.87      0.90      0.89       512\n",
            "\n",
            "    accuracy                           0.87      1500\n",
            "   macro avg       0.87      0.87      0.87      1500\n",
            "weighted avg       0.87      0.87      0.87      1500\n",
            "\n"
          ]
        }
      ]
    },
    {
      "cell_type": "markdown",
      "source": [
        "## RandomForestClassifier as the classifier"
      ],
      "metadata": {
        "id": "L2iAb7AZH2u-"
      }
    },
    {
      "cell_type": "code",
      "source": [
        "from sklearn.ensemble import RandomForestClassifier\n",
        "\n",
        "clf=RandomForestClassifier(n_estimators=20)\n",
        "\n",
        "clf.fit(x_train_2d,y_train)\n",
        "y_pred=clf.predict(x_test_2d)"
      ],
      "metadata": {
        "id": "YPdC9detH-wV"
      },
      "execution_count": 23,
      "outputs": []
    },
    {
      "cell_type": "code",
      "source": [
        "print(classification_report(y_test,y_pred))"
      ],
      "metadata": {
        "colab": {
          "base_uri": "https://localhost:8080/"
        },
        "id": "Fn_ifuQTIm1C",
        "outputId": "52080064-16be-4e0e-cc38-5f3394bb9423"
      },
      "execution_count": 25,
      "outputs": [
        {
          "output_type": "stream",
          "name": "stdout",
          "text": [
            "              precision    recall  f1-score   support\n",
            "\n",
            "           0       0.79      0.88      0.83       487\n",
            "           1       0.86      0.81      0.84       501\n",
            "           2       0.89      0.83      0.86       512\n",
            "\n",
            "    accuracy                           0.84      1500\n",
            "   macro avg       0.85      0.84      0.84      1500\n",
            "weighted avg       0.85      0.84      0.84      1500\n",
            "\n"
          ]
        }
      ]
    },
    {
      "cell_type": "markdown",
      "source": [
        "## GradientBoostingClassifier as the classifier"
      ],
      "metadata": {
        "id": "rfwFDUbZIv7z"
      }
    },
    {
      "cell_type": "code",
      "source": [
        "from sklearn.ensemble import GradientBoostingClassifier\n",
        "\n",
        "clf=GradientBoostingClassifier()\n",
        "clf.fit(x_train_2d,y_train)\n",
        "y_pred=clf.predict(x_test_2d)"
      ],
      "metadata": {
        "id": "aIbej7ojI0zE"
      },
      "execution_count": 26,
      "outputs": []
    },
    {
      "cell_type": "code",
      "source": [
        "print(classification_report(y_test,y_pred))"
      ],
      "metadata": {
        "colab": {
          "base_uri": "https://localhost:8080/"
        },
        "id": "1qfDirsoKE9u",
        "outputId": "71a85600-7aa3-4055-f4a9-5f666d87f4a6"
      },
      "execution_count": 27,
      "outputs": [
        {
          "output_type": "stream",
          "name": "stdout",
          "text": [
            "              precision    recall  f1-score   support\n",
            "\n",
            "           0       0.88      0.92      0.90       487\n",
            "           1       0.92      0.87      0.89       501\n",
            "           2       0.91      0.91      0.91       512\n",
            "\n",
            "    accuracy                           0.90      1500\n",
            "   macro avg       0.90      0.90      0.90      1500\n",
            "weighted avg       0.90      0.90      0.90      1500\n",
            "\n"
          ]
        }
      ]
    },
    {
      "cell_type": "markdown",
      "source": [
        " Confusion matrix for the best model (GradientBoostingClassifier)"
      ],
      "metadata": {
        "id": "sKbylySjKImU"
      }
    },
    {
      "cell_type": "code",
      "source": [
        "from sklearn.metrics import confusion_matrix\n",
        "cm=confusion_matrix(y_test,y_pred)\n",
        "cm"
      ],
      "metadata": {
        "colab": {
          "base_uri": "https://localhost:8080/"
        },
        "id": "HZwh_RMZKQki",
        "outputId": "c75b6956-2d16-43e0-af01-3dad77320b6d"
      },
      "execution_count": 29,
      "outputs": [
        {
          "output_type": "execute_result",
          "data": {
            "text/plain": [
              "array([[446,  22,  19],\n",
              "       [ 35, 438,  28],\n",
              "       [ 28,  18, 466]])"
            ]
          },
          "metadata": {},
          "execution_count": 29
        }
      ]
    },
    {
      "cell_type": "code",
      "source": [
        "from matplotlib import pyplot as plt\n",
        "import seaborn as sn\n",
        "\n",
        "plt.figure(figsize = (10,7))\n",
        "sn.heatmap(cm, annot=True, fmt='d')\n",
        "plt.xlabel('Prediction')\n",
        "plt.ylabel('Truth')"
      ],
      "metadata": {
        "colab": {
          "base_uri": "https://localhost:8080/",
          "height": 560
        },
        "id": "arxbFy89KbEV",
        "outputId": "057cec45-0336-4248-e192-3889e57075bd"
      },
      "execution_count": 30,
      "outputs": [
        {
          "output_type": "execute_result",
          "data": {
            "text/plain": [
              "Text(95.72222222222221, 0.5, 'Truth')"
            ]
          },
          "metadata": {},
          "execution_count": 30
        },
        {
          "output_type": "display_data",
          "data": {
            "text/plain": [
              "<Figure size 1000x700 with 2 Axes>"
            ],
            "image/png": "[encoded data removed]"
          },
          "metadata": {}
        }
      ]
    }
  ]
}